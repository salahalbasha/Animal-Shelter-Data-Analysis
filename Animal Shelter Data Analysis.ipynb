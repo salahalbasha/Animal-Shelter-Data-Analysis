{
 "cells": [
  {
   "cell_type": "markdown",
   "id": "568d74be",
   "metadata": {},
   "source": [
    "# Animal Shelter Data Analysis: Factors Influencing Adoption vs Euthanasia\n",
    "This analysis was done by: **Salah Al-Basha**<br>\n",
    "\n",
    "------------\n",
    "\n",
    "### Description\n",
    "The study of Factors Influencing Adoption vs Euthanasia in Animal Shelters delves into the multifaceted dynamics that contribute to the outcomes of animal shelter residents. By meticulously examining a range of variables and their interplay, this analysis aims to unravel the determinants that steer the choices between adoption and euthanasia for sheltered animals. Through rigorous exploration and data-driven insights, this investigation sheds light on the intricate factors that influence the ultimate destiny of these animals within the shelter environment.<br>\n",
    "<br>\n",
    "\n",
    "### Objective\n",
    "The primary objective of this analysis is to gain comprehensive insights into the diverse factors that play a pivotal role in shaping the outcomes of animals in shelters, specifically focusing on the critical dichotomy between adoption and euthanasia. By leveraging data analysis techniques, including visualization, machine learning, and potentially linear optimization, we aim to uncover patterns, correlations, and trends that empower informed decision-making within the realm of animal shelter management. Ultimately, this analysis seeks to provide actionable recommendations and strategies that can contribute to enhancing adoption rates while minimizing euthanasia occurrences, thereby fostering improved animal welfare and shelter efficacy.<br>\n",
    "\n",
    "------------\n",
    "\n",
    "# Data Pipeline\n",
    "\n",
    "## Data Preparation and Cleaning:\n",
    "- Loaded raw data files using Pandas.\n",
    "- Conducted initial analysis of features to identify issues like missing or incorrect values.\n",
    "- Performed data cleaning to address issues in the dataset.\n",
    "\n",
    "\n",
    "## Exploratory Data Analysis and Visualization:\n",
    "### 1. Analyzed key features to understand their distributions and relationships:\n",
    "- Animal Type\n",
    "- Sex Upon Intake\n",
    "- Age at Intake\n",
    "- Intake Condition\n",
    "- Intake Type\n",
    "\n",
    "### 2. Utilized visualizations to gain insights into the data.\n",
    "\n",
    "\n",
    "## Feature Engineering:\n",
    "\n",
    "#### Created new features to enhance model predictive power, including:\n",
    "- Exploration of Duration of Stay and its impact on Adoption and Euthanasia outcomes.\n",
    "\n",
    "\n",
    "## Data Preprocessing:\n",
    "- Imputed missing values in numerical columns using median values.\n",
    "- Applied one-hot encoding to categorical columns to transform them into numerical features.\n",
    "- Created binary feature 'NamePresent' based on the presence of names.\n",
    "- Dropped 'Name' and 'Animal ID' columns.\n",
    "- Performed feature scaling using StandardScaler on selected numerical columns.\n",
    "\n",
    "\n",
    "## Model Building:\n",
    "### Constructed the predictive model:\n",
    "- Selected appropriate features for training and testing.\n",
    "- Chose a machine learning algorithm suitable for the prediction task.\n",
    "- Split data into training and testing sets.\n",
    "- Trained and evaluated the model's performance.\n",
    "\n",
    "------------\n",
    "\n",
    "## Data Dictionary\n",
    "The dataset has the following information:\n",
    "\n",
    "1.  **Animal ID**: Unique identification code assigned to each animal.\n",
    "2.  **Name**: The given name of the animal.\n",
    "3.  **IntakeDT**: Date and time of animal's intake at the shelter.\n",
    "4.  **OutcomeDT**: Date and time of the animal's outcome (adoption, euthanasia, etc.).\n",
    "5.  **DOB**: Date of birth of the animal.\n",
    "6.  **Intake Type**: Reason or circumstance under which the animal was brought to the shelter.\n",
    "7.  **Intake Condition**: Health or condition of the animal upon intake.\n",
    "8.  **Animal Type**: The species or type of animal (e.g., dog, cat).\n",
    "9.  **Sex upon Intake**: Gender and sterilization status of the animal upon intake.\n",
    "10. **Breed**: The breed or breed mix of the animal.\n",
    "11. **Color**: The color of the animal's coat or markings.\n",
    "12. **Outcome Type**: The overall outcome for the animal (e.g., adoption, euthanasia).\n",
    "13. **Outcome Subtype**: Further classification of the outcome (if applicable).\n",
    "14. **Sex upon Outcome**: Gender and sterilization status of the animal at outcome.\n",
    "15. **Obedience**: Obedience status of the animal (if available).\n",
    "16. **Weight at Intake (lbs)**: The weight of the animal upon intake (in pounds).\n",
    "17. **Height (in)**: The height of the animal (in inches).\n",
    "18. **Weight at Outcome (lbs)**: The weight of the animal at outcome (in pounds).\n",
    "19. **AgeAtIntake**: The age of the animal at the time of intake (in days).\n",
    "20. **TimeAtShelter**: Duration of the animal's stay at the shelter (in days).\n",
    "21. **AgeAtOutcome**: The age of the animal at the time of outcome (in days).\n",
    "\n",
    "------------\n",
    "\n",
    "#### Importing the necessary libraries"
   ]
  },
  {
   "cell_type": "code",
   "execution_count": 47,
   "id": "71a3baaa",
   "metadata": {},
   "outputs": [],
   "source": [
    "import numpy as np\n",
    "import pandas as pd\n",
    "import seaborn as sns\n",
    "import matplotlib as plt\n",
    "import matplotlib.pyplot as plt\n",
    "%matplotlib inline\n",
    "from sklearn.model_selection import train_test_split\n",
    "from sklearn.ensemble import RandomForestClassifier\n",
    "from sklearn.metrics import classification_report, confusion_matrix"
   ]
  },
  {
   "cell_type": "markdown",
   "id": "ee7cdafd",
   "metadata": {},
   "source": [
    "# Data Preparation and Cleaning\n",
    "\n",
    "- Load files using Pandas\n",
    "- Analyze the features\n",
    "- Fix any missing/incorrect values"
   ]
  },
  {
   "cell_type": "code",
   "execution_count": 2,
   "id": "1b726ae0",
   "metadata": {},
   "outputs": [],
   "source": [
    "df = pd.read_excel('AnimalShelter.xlsx')"
   ]
  },
  {
   "cell_type": "markdown",
   "id": "28e07ca0",
   "metadata": {},
   "source": [
    "#### Let's see the first and last 10 records of the dataset"
   ]
  },
  {
   "cell_type": "code",
   "execution_count": 3,
   "id": "2ae88a1e",
   "metadata": {
    "scrolled": true
   },
   "outputs": [
    {
     "data": {
      "text/html": [
       "<div>\n",
       "<style scoped>\n",
       "    .dataframe tbody tr th:only-of-type {\n",
       "        vertical-align: middle;\n",
       "    }\n",
       "\n",
       "    .dataframe tbody tr th {\n",
       "        vertical-align: top;\n",
       "    }\n",
       "\n",
       "    .dataframe thead th {\n",
       "        text-align: right;\n",
       "    }\n",
       "</style>\n",
       "<table border=\"1\" class=\"dataframe\">\n",
       "  <thead>\n",
       "    <tr style=\"text-align: right;\">\n",
       "      <th></th>\n",
       "      <th>Animal ID</th>\n",
       "      <th>Name</th>\n",
       "      <th>IntakeDT</th>\n",
       "      <th>OutcomeDT</th>\n",
       "      <th>DOB</th>\n",
       "      <th>Intake Type</th>\n",
       "      <th>Intake Condition</th>\n",
       "      <th>Animal Type</th>\n",
       "      <th>Sex upon Intake</th>\n",
       "      <th>Breed</th>\n",
       "      <th>...</th>\n",
       "      <th>Outcome Type</th>\n",
       "      <th>Outcome Subtype</th>\n",
       "      <th>Sex upon Outcome</th>\n",
       "      <th>Obedience*</th>\n",
       "      <th>Weight at Intake (lbs)*</th>\n",
       "      <th>Height (in)*</th>\n",
       "      <th>Weight at Outcome (lbs)*</th>\n",
       "      <th>AgeAtIntake</th>\n",
       "      <th>TimeAtShelter</th>\n",
       "      <th>AgeAtOutcome</th>\n",
       "    </tr>\n",
       "  </thead>\n",
       "  <tbody>\n",
       "    <tr>\n",
       "      <th>95491</th>\n",
       "      <td>A664234</td>\n",
       "      <td>NO</td>\n",
       "      <td>2013-10-01 10:36:59.990</td>\n",
       "      <td>2013-10-01 07:09:00.029</td>\n",
       "      <td>2005-10-01</td>\n",
       "      <td>Stray</td>\n",
       "      <td>Injured</td>\n",
       "      <td>Dog</td>\n",
       "      <td>Intact Male</td>\n",
       "      <td>Border Collie</td>\n",
       "      <td>...</td>\n",
       "      <td>Euthanasia</td>\n",
       "      <td>Suffering</td>\n",
       "      <td>Intact Male</td>\n",
       "      <td>3.0</td>\n",
       "      <td>40.79</td>\n",
       "      <td>19.80</td>\n",
       "      <td>40.79</td>\n",
       "      <td>2922</td>\n",
       "      <td>0</td>\n",
       "      <td>2922</td>\n",
       "    </tr>\n",
       "    <tr>\n",
       "      <th>95492</th>\n",
       "      <td>A664313</td>\n",
       "      <td>NO</td>\n",
       "      <td>2013-10-01 05:26:59.971</td>\n",
       "      <td>2013-10-01 06:33:00.029</td>\n",
       "      <td>2013-09-24</td>\n",
       "      <td>Stray</td>\n",
       "      <td>Normal</td>\n",
       "      <td>Cat</td>\n",
       "      <td>Intact Female</td>\n",
       "      <td>Domestic Shorthair Mix</td>\n",
       "      <td>...</td>\n",
       "      <td>Transfer</td>\n",
       "      <td>Partner</td>\n",
       "      <td>Intact Female</td>\n",
       "      <td>NaN</td>\n",
       "      <td>2.28</td>\n",
       "      <td>2.32</td>\n",
       "      <td>2.53</td>\n",
       "      <td>7</td>\n",
       "      <td>0</td>\n",
       "      <td>7</td>\n",
       "    </tr>\n",
       "    <tr>\n",
       "      <th>95493</th>\n",
       "      <td>A658012</td>\n",
       "      <td>YES</td>\n",
       "      <td>2013-10-01 01:48:00.000</td>\n",
       "      <td>2013-10-01 06:27:00.000</td>\n",
       "      <td>2010-07-05</td>\n",
       "      <td>Stray</td>\n",
       "      <td>Normal</td>\n",
       "      <td>Dog</td>\n",
       "      <td>Neutered Male</td>\n",
       "      <td>Chihuahua Shorthair</td>\n",
       "      <td>...</td>\n",
       "      <td>Return to Owner</td>\n",
       "      <td>Return to Owner</td>\n",
       "      <td>Neutered Male</td>\n",
       "      <td>3.0</td>\n",
       "      <td>5.72</td>\n",
       "      <td>6.96</td>\n",
       "      <td>5.72</td>\n",
       "      <td>1184</td>\n",
       "      <td>0</td>\n",
       "      <td>1184</td>\n",
       "    </tr>\n",
       "    <tr>\n",
       "      <th>95494</th>\n",
       "      <td>A664288</td>\n",
       "      <td>NO</td>\n",
       "      <td>2013-10-01 03:51:59.990</td>\n",
       "      <td>2013-10-01 06:02:00.010</td>\n",
       "      <td>2011-10-01</td>\n",
       "      <td>Stray</td>\n",
       "      <td>Normal</td>\n",
       "      <td>Cat</td>\n",
       "      <td>Intact Male</td>\n",
       "      <td>Domestic Shorthair Mix</td>\n",
       "      <td>...</td>\n",
       "      <td>Euthanasia</td>\n",
       "      <td>Suffering</td>\n",
       "      <td>Intact Male</td>\n",
       "      <td>NaN</td>\n",
       "      <td>11.93</td>\n",
       "      <td>9.00</td>\n",
       "      <td>11.93</td>\n",
       "      <td>731</td>\n",
       "      <td>0</td>\n",
       "      <td>731</td>\n",
       "    </tr>\n",
       "    <tr>\n",
       "      <th>95495</th>\n",
       "      <td>A664238</td>\n",
       "      <td>NO</td>\n",
       "      <td>2013-10-01 09:33:00.029</td>\n",
       "      <td>2013-10-01 04:47:00.038</td>\n",
       "      <td>2013-06-01</td>\n",
       "      <td>Stray</td>\n",
       "      <td>Normal</td>\n",
       "      <td>Cat</td>\n",
       "      <td>Unknown</td>\n",
       "      <td>American Shorthair Mix</td>\n",
       "      <td>...</td>\n",
       "      <td>Euthanasia</td>\n",
       "      <td>Medical</td>\n",
       "      <td>Unknown</td>\n",
       "      <td>NaN</td>\n",
       "      <td>9.06</td>\n",
       "      <td>7.50</td>\n",
       "      <td>13.45</td>\n",
       "      <td>122</td>\n",
       "      <td>0</td>\n",
       "      <td>122</td>\n",
       "    </tr>\n",
       "    <tr>\n",
       "      <th>95496</th>\n",
       "      <td>A664280</td>\n",
       "      <td>YES</td>\n",
       "      <td>2013-10-01 02:33:59.962</td>\n",
       "      <td>2013-10-01 03:51:00.029</td>\n",
       "      <td>2007-10-01</td>\n",
       "      <td>Stray</td>\n",
       "      <td>Normal</td>\n",
       "      <td>Dog</td>\n",
       "      <td>Spayed Female</td>\n",
       "      <td>Miniature Poodle</td>\n",
       "      <td>...</td>\n",
       "      <td>Return to Owner</td>\n",
       "      <td>Return to Owner</td>\n",
       "      <td>Spayed Female</td>\n",
       "      <td>3.0</td>\n",
       "      <td>19.67</td>\n",
       "      <td>11.65</td>\n",
       "      <td>19.67</td>\n",
       "      <td>2192</td>\n",
       "      <td>0</td>\n",
       "      <td>2192</td>\n",
       "    </tr>\n",
       "    <tr>\n",
       "      <th>95497</th>\n",
       "      <td>A521520</td>\n",
       "      <td>YES</td>\n",
       "      <td>2013-10-01 07:50:59.971</td>\n",
       "      <td>2013-10-01 03:38:59.971</td>\n",
       "      <td>2006-09-07</td>\n",
       "      <td>Stray</td>\n",
       "      <td>Normal</td>\n",
       "      <td>Dog</td>\n",
       "      <td>Spayed Female</td>\n",
       "      <td>Border Terrier/Border Collie</td>\n",
       "      <td>...</td>\n",
       "      <td>Return to Owner</td>\n",
       "      <td>Return to Owner</td>\n",
       "      <td>Spayed Female</td>\n",
       "      <td>2.0</td>\n",
       "      <td>29.25</td>\n",
       "      <td>16.10</td>\n",
       "      <td>29.25</td>\n",
       "      <td>2581</td>\n",
       "      <td>0</td>\n",
       "      <td>2581</td>\n",
       "    </tr>\n",
       "    <tr>\n",
       "      <th>95498</th>\n",
       "      <td>A664233</td>\n",
       "      <td>YES</td>\n",
       "      <td>2013-10-01 08:53:00.010</td>\n",
       "      <td>2013-10-01 03:33:00.029</td>\n",
       "      <td>2010-09-30</td>\n",
       "      <td>Stray</td>\n",
       "      <td>Injured</td>\n",
       "      <td>Dog</td>\n",
       "      <td>Intact Female</td>\n",
       "      <td>Pit Bull</td>\n",
       "      <td>...</td>\n",
       "      <td>Euthanasia</td>\n",
       "      <td>Suffering</td>\n",
       "      <td>Intact Female</td>\n",
       "      <td>1.0</td>\n",
       "      <td>45.15</td>\n",
       "      <td>18.78</td>\n",
       "      <td>45.15</td>\n",
       "      <td>1097</td>\n",
       "      <td>0</td>\n",
       "      <td>1097</td>\n",
       "    </tr>\n",
       "    <tr>\n",
       "      <th>95499</th>\n",
       "      <td>A664260</td>\n",
       "      <td>NO</td>\n",
       "      <td>2013-10-01 11:21:00.029</td>\n",
       "      <td>2013-10-01 01:00:00.029</td>\n",
       "      <td>2013-09-10</td>\n",
       "      <td>Stray</td>\n",
       "      <td>Normal</td>\n",
       "      <td>Cat</td>\n",
       "      <td>Intact Female</td>\n",
       "      <td>Domestic Shorthair Mix</td>\n",
       "      <td>...</td>\n",
       "      <td>Transfer</td>\n",
       "      <td>Partner</td>\n",
       "      <td>Intact Female</td>\n",
       "      <td>NaN</td>\n",
       "      <td>3.04</td>\n",
       "      <td>2.95</td>\n",
       "      <td>3.80</td>\n",
       "      <td>21</td>\n",
       "      <td>0</td>\n",
       "      <td>21</td>\n",
       "    </tr>\n",
       "    <tr>\n",
       "      <th>95500</th>\n",
       "      <td>A664261</td>\n",
       "      <td>NO</td>\n",
       "      <td>2013-10-01 11:21:00.029</td>\n",
       "      <td>2013-10-01 01:00:00.029</td>\n",
       "      <td>2013-09-10</td>\n",
       "      <td>Stray</td>\n",
       "      <td>Normal</td>\n",
       "      <td>Cat</td>\n",
       "      <td>Intact Female</td>\n",
       "      <td>Domestic Shorthair Mix</td>\n",
       "      <td>...</td>\n",
       "      <td>Transfer</td>\n",
       "      <td>Partner</td>\n",
       "      <td>Intact Female</td>\n",
       "      <td>NaN</td>\n",
       "      <td>2.72</td>\n",
       "      <td>2.94</td>\n",
       "      <td>3.48</td>\n",
       "      <td>21</td>\n",
       "      <td>0</td>\n",
       "      <td>21</td>\n",
       "    </tr>\n",
       "  </tbody>\n",
       "</table>\n",
       "<p>10 rows × 21 columns</p>\n",
       "</div>"
      ],
      "text/plain": [
       "      Animal ID Name                IntakeDT               OutcomeDT  \\\n",
       "95491   A664234   NO 2013-10-01 10:36:59.990 2013-10-01 07:09:00.029   \n",
       "95492   A664313   NO 2013-10-01 05:26:59.971 2013-10-01 06:33:00.029   \n",
       "95493   A658012  YES 2013-10-01 01:48:00.000 2013-10-01 06:27:00.000   \n",
       "95494   A664288   NO 2013-10-01 03:51:59.990 2013-10-01 06:02:00.010   \n",
       "95495   A664238   NO 2013-10-01 09:33:00.029 2013-10-01 04:47:00.038   \n",
       "95496   A664280  YES 2013-10-01 02:33:59.962 2013-10-01 03:51:00.029   \n",
       "95497   A521520  YES 2013-10-01 07:50:59.971 2013-10-01 03:38:59.971   \n",
       "95498   A664233  YES 2013-10-01 08:53:00.010 2013-10-01 03:33:00.029   \n",
       "95499   A664260   NO 2013-10-01 11:21:00.029 2013-10-01 01:00:00.029   \n",
       "95500   A664261   NO 2013-10-01 11:21:00.029 2013-10-01 01:00:00.029   \n",
       "\n",
       "             DOB Intake Type Intake Condition Animal Type Sex upon Intake  \\\n",
       "95491 2005-10-01       Stray          Injured         Dog     Intact Male   \n",
       "95492 2013-09-24       Stray           Normal         Cat   Intact Female   \n",
       "95493 2010-07-05       Stray           Normal         Dog   Neutered Male   \n",
       "95494 2011-10-01       Stray           Normal         Cat     Intact Male   \n",
       "95495 2013-06-01       Stray           Normal         Cat         Unknown   \n",
       "95496 2007-10-01       Stray           Normal         Dog   Spayed Female   \n",
       "95497 2006-09-07       Stray           Normal         Dog   Spayed Female   \n",
       "95498 2010-09-30       Stray          Injured         Dog   Intact Female   \n",
       "95499 2013-09-10       Stray           Normal         Cat   Intact Female   \n",
       "95500 2013-09-10       Stray           Normal         Cat   Intact Female   \n",
       "\n",
       "                              Breed  ...     Outcome Type  Outcome Subtype  \\\n",
       "95491                 Border Collie  ...       Euthanasia        Suffering   \n",
       "95492        Domestic Shorthair Mix  ...         Transfer          Partner   \n",
       "95493           Chihuahua Shorthair  ...  Return to Owner  Return to Owner   \n",
       "95494        Domestic Shorthair Mix  ...       Euthanasia        Suffering   \n",
       "95495        American Shorthair Mix  ...       Euthanasia          Medical   \n",
       "95496              Miniature Poodle  ...  Return to Owner  Return to Owner   \n",
       "95497  Border Terrier/Border Collie  ...  Return to Owner  Return to Owner   \n",
       "95498                      Pit Bull  ...       Euthanasia        Suffering   \n",
       "95499        Domestic Shorthair Mix  ...         Transfer          Partner   \n",
       "95500        Domestic Shorthair Mix  ...         Transfer          Partner   \n",
       "\n",
       "      Sex upon Outcome Obedience*  Weight at Intake (lbs)*  Height (in)*  \\\n",
       "95491      Intact Male        3.0                    40.79         19.80   \n",
       "95492    Intact Female        NaN                     2.28          2.32   \n",
       "95493    Neutered Male        3.0                     5.72          6.96   \n",
       "95494      Intact Male        NaN                    11.93          9.00   \n",
       "95495          Unknown        NaN                     9.06          7.50   \n",
       "95496    Spayed Female        3.0                    19.67         11.65   \n",
       "95497    Spayed Female        2.0                    29.25         16.10   \n",
       "95498    Intact Female        1.0                    45.15         18.78   \n",
       "95499    Intact Female        NaN                     3.04          2.95   \n",
       "95500    Intact Female        NaN                     2.72          2.94   \n",
       "\n",
       "       Weight at Outcome (lbs)*  AgeAtIntake  TimeAtShelter  AgeAtOutcome  \n",
       "95491                     40.79         2922              0          2922  \n",
       "95492                      2.53            7              0             7  \n",
       "95493                      5.72         1184              0          1184  \n",
       "95494                     11.93          731              0           731  \n",
       "95495                     13.45          122              0           122  \n",
       "95496                     19.67         2192              0          2192  \n",
       "95497                     29.25         2581              0          2581  \n",
       "95498                     45.15         1097              0          1097  \n",
       "95499                      3.80           21              0            21  \n",
       "95500                      3.48           21              0            21  \n",
       "\n",
       "[10 rows x 21 columns]"
      ]
     },
     "execution_count": 3,
     "metadata": {},
     "output_type": "execute_result"
    }
   ],
   "source": [
    "df.tail(10)"
   ]
  },
  {
   "cell_type": "code",
   "execution_count": 4,
   "id": "fa1ef135",
   "metadata": {},
   "outputs": [
    {
     "data": {
      "text/html": [
       "<div>\n",
       "<style scoped>\n",
       "    .dataframe tbody tr th:only-of-type {\n",
       "        vertical-align: middle;\n",
       "    }\n",
       "\n",
       "    .dataframe tbody tr th {\n",
       "        vertical-align: top;\n",
       "    }\n",
       "\n",
       "    .dataframe thead th {\n",
       "        text-align: right;\n",
       "    }\n",
       "</style>\n",
       "<table border=\"1\" class=\"dataframe\">\n",
       "  <thead>\n",
       "    <tr style=\"text-align: right;\">\n",
       "      <th></th>\n",
       "      <th>Animal ID</th>\n",
       "      <th>Name</th>\n",
       "      <th>IntakeDT</th>\n",
       "      <th>OutcomeDT</th>\n",
       "      <th>DOB</th>\n",
       "      <th>Intake Type</th>\n",
       "      <th>Intake Condition</th>\n",
       "      <th>Animal Type</th>\n",
       "      <th>Sex upon Intake</th>\n",
       "      <th>Breed</th>\n",
       "      <th>...</th>\n",
       "      <th>Outcome Type</th>\n",
       "      <th>Outcome Subtype</th>\n",
       "      <th>Sex upon Outcome</th>\n",
       "      <th>Obedience*</th>\n",
       "      <th>Weight at Intake (lbs)*</th>\n",
       "      <th>Height (in)*</th>\n",
       "      <th>Weight at Outcome (lbs)*</th>\n",
       "      <th>AgeAtIntake</th>\n",
       "      <th>TimeAtShelter</th>\n",
       "      <th>AgeAtOutcome</th>\n",
       "    </tr>\n",
       "  </thead>\n",
       "  <tbody>\n",
       "    <tr>\n",
       "      <th>0</th>\n",
       "      <td>A785936</td>\n",
       "      <td>NO</td>\n",
       "      <td>2018-12-13 10:57:59.962</td>\n",
       "      <td>2019-03-13 09:20:00.010</td>\n",
       "      <td>2018-12-12</td>\n",
       "      <td>Stray</td>\n",
       "      <td>Nursing</td>\n",
       "      <td>Cat</td>\n",
       "      <td>Intact Female</td>\n",
       "      <td>Domestic Shorthair Mix</td>\n",
       "      <td>...</td>\n",
       "      <td>Adoption</td>\n",
       "      <td>Foster</td>\n",
       "      <td>Spayed Female</td>\n",
       "      <td>NaN</td>\n",
       "      <td>2.03</td>\n",
       "      <td>2.05</td>\n",
       "      <td>5.31</td>\n",
       "      <td>1</td>\n",
       "      <td>89</td>\n",
       "      <td>91</td>\n",
       "    </tr>\n",
       "    <tr>\n",
       "      <th>1</th>\n",
       "      <td>A774111</td>\n",
       "      <td>GIVEN</td>\n",
       "      <td>2018-06-10 01:41:59.971</td>\n",
       "      <td>2019-03-13 09:11:59.971</td>\n",
       "      <td>2018-05-10</td>\n",
       "      <td>Stray</td>\n",
       "      <td>Normal</td>\n",
       "      <td>Cat</td>\n",
       "      <td>Intact Female</td>\n",
       "      <td>Domestic Shorthair Mix</td>\n",
       "      <td>...</td>\n",
       "      <td>Adoption</td>\n",
       "      <td>Foster</td>\n",
       "      <td>Spayed Female</td>\n",
       "      <td>NaN</td>\n",
       "      <td>3.17</td>\n",
       "      <td>3.39</td>\n",
       "      <td>11.17</td>\n",
       "      <td>31</td>\n",
       "      <td>276</td>\n",
       "      <td>307</td>\n",
       "    </tr>\n",
       "    <tr>\n",
       "      <th>2</th>\n",
       "      <td>A774113</td>\n",
       "      <td>GIVEN</td>\n",
       "      <td>2018-06-10 01:41:59.971</td>\n",
       "      <td>2019-03-13 09:11:59.971</td>\n",
       "      <td>2018-05-10</td>\n",
       "      <td>Stray</td>\n",
       "      <td>Normal</td>\n",
       "      <td>Cat</td>\n",
       "      <td>Intact Female</td>\n",
       "      <td>Domestic Shorthair Mix</td>\n",
       "      <td>...</td>\n",
       "      <td>Adoption</td>\n",
       "      <td>Foster</td>\n",
       "      <td>Spayed Female</td>\n",
       "      <td>NaN</td>\n",
       "      <td>3.47</td>\n",
       "      <td>3.39</td>\n",
       "      <td>11.47</td>\n",
       "      <td>31</td>\n",
       "      <td>276</td>\n",
       "      <td>307</td>\n",
       "    </tr>\n",
       "    <tr>\n",
       "      <th>3</th>\n",
       "      <td>A774114</td>\n",
       "      <td>GIVEN</td>\n",
       "      <td>2018-06-10 01:41:59.971</td>\n",
       "      <td>2019-03-13 09:09:59.962</td>\n",
       "      <td>2018-05-10</td>\n",
       "      <td>Stray</td>\n",
       "      <td>Normal</td>\n",
       "      <td>Cat</td>\n",
       "      <td>Intact Male</td>\n",
       "      <td>Domestic Shorthair Mix</td>\n",
       "      <td>...</td>\n",
       "      <td>Adoption</td>\n",
       "      <td>Foster</td>\n",
       "      <td>Neutered Male</td>\n",
       "      <td>NaN</td>\n",
       "      <td>3.51</td>\n",
       "      <td>3.40</td>\n",
       "      <td>11.51</td>\n",
       "      <td>31</td>\n",
       "      <td>276</td>\n",
       "      <td>307</td>\n",
       "    </tr>\n",
       "    <tr>\n",
       "      <th>4</th>\n",
       "      <td>A774115</td>\n",
       "      <td>GIVEN</td>\n",
       "      <td>2018-06-10 01:41:59.971</td>\n",
       "      <td>2019-03-13 09:09:59.962</td>\n",
       "      <td>2018-05-10</td>\n",
       "      <td>Stray</td>\n",
       "      <td>Normal</td>\n",
       "      <td>Cat</td>\n",
       "      <td>Intact Female</td>\n",
       "      <td>Domestic Shorthair Mix</td>\n",
       "      <td>...</td>\n",
       "      <td>Adoption</td>\n",
       "      <td>Foster</td>\n",
       "      <td>Spayed Female</td>\n",
       "      <td>NaN</td>\n",
       "      <td>3.83</td>\n",
       "      <td>3.39</td>\n",
       "      <td>11.83</td>\n",
       "      <td>31</td>\n",
       "      <td>276</td>\n",
       "      <td>307</td>\n",
       "    </tr>\n",
       "    <tr>\n",
       "      <th>5</th>\n",
       "      <td>A774110</td>\n",
       "      <td>GIVEN</td>\n",
       "      <td>2018-06-10 01:41:59.971</td>\n",
       "      <td>2019-03-13 09:09:00.000</td>\n",
       "      <td>2018-05-10</td>\n",
       "      <td>Stray</td>\n",
       "      <td>Normal</td>\n",
       "      <td>Cat</td>\n",
       "      <td>Intact Female</td>\n",
       "      <td>Domestic Medium Hair Mix</td>\n",
       "      <td>...</td>\n",
       "      <td>Adoption</td>\n",
       "      <td>Foster</td>\n",
       "      <td>Spayed Female</td>\n",
       "      <td>NaN</td>\n",
       "      <td>3.58</td>\n",
       "      <td>3.40</td>\n",
       "      <td>11.58</td>\n",
       "      <td>31</td>\n",
       "      <td>276</td>\n",
       "      <td>307</td>\n",
       "    </tr>\n",
       "    <tr>\n",
       "      <th>6</th>\n",
       "      <td>A790596</td>\n",
       "      <td>NO</td>\n",
       "      <td>2019-03-12 11:44:00.010</td>\n",
       "      <td>2019-03-13 09:04:59.981</td>\n",
       "      <td>2018-03-12</td>\n",
       "      <td>Public Assist</td>\n",
       "      <td>Normal</td>\n",
       "      <td>Other</td>\n",
       "      <td>Unknown</td>\n",
       "      <td>Bat Mix</td>\n",
       "      <td>...</td>\n",
       "      <td>Euthanasia</td>\n",
       "      <td>Rabies Risk</td>\n",
       "      <td>Unknown</td>\n",
       "      <td>NaN</td>\n",
       "      <td>NaN</td>\n",
       "      <td>NaN</td>\n",
       "      <td>NaN</td>\n",
       "      <td>365</td>\n",
       "      <td>0</td>\n",
       "      <td>366</td>\n",
       "    </tr>\n",
       "    <tr>\n",
       "      <th>7</th>\n",
       "      <td>A790577</td>\n",
       "      <td>NO</td>\n",
       "      <td>2019-03-12 05:08:59.971</td>\n",
       "      <td>2019-03-13 09:00:00.000</td>\n",
       "      <td>2017-03-12</td>\n",
       "      <td>Wildlife</td>\n",
       "      <td>Normal</td>\n",
       "      <td>Other</td>\n",
       "      <td>Unknown</td>\n",
       "      <td>Bat Mix</td>\n",
       "      <td>...</td>\n",
       "      <td>Euthanasia</td>\n",
       "      <td>Rabies Risk</td>\n",
       "      <td>Unknown</td>\n",
       "      <td>NaN</td>\n",
       "      <td>NaN</td>\n",
       "      <td>NaN</td>\n",
       "      <td>NaN</td>\n",
       "      <td>730</td>\n",
       "      <td>1</td>\n",
       "      <td>731</td>\n",
       "    </tr>\n",
       "    <tr>\n",
       "      <th>8</th>\n",
       "      <td>A790523</td>\n",
       "      <td>YES</td>\n",
       "      <td>2019-03-11 07:14:00.010</td>\n",
       "      <td>2019-03-12 12:06:59.990</td>\n",
       "      <td>2018-03-11</td>\n",
       "      <td>Stray</td>\n",
       "      <td>Normal</td>\n",
       "      <td>Dog</td>\n",
       "      <td>Intact Male</td>\n",
       "      <td>Boxer</td>\n",
       "      <td>...</td>\n",
       "      <td>Return to Owner</td>\n",
       "      <td>Return to Owner</td>\n",
       "      <td>Intact Male</td>\n",
       "      <td>3.0</td>\n",
       "      <td>71.01</td>\n",
       "      <td>22.97</td>\n",
       "      <td>71.01</td>\n",
       "      <td>365</td>\n",
       "      <td>1</td>\n",
       "      <td>366</td>\n",
       "    </tr>\n",
       "    <tr>\n",
       "      <th>9</th>\n",
       "      <td>A787807</td>\n",
       "      <td>GIVEN</td>\n",
       "      <td>2019-01-20 12:38:00.010</td>\n",
       "      <td>2019-03-12 12:04:00.019</td>\n",
       "      <td>2018-08-20</td>\n",
       "      <td>Stray</td>\n",
       "      <td>Normal</td>\n",
       "      <td>Dog</td>\n",
       "      <td>Intact Female</td>\n",
       "      <td>Dachshund/Chihuahua Shorthair</td>\n",
       "      <td>...</td>\n",
       "      <td>Adoption</td>\n",
       "      <td>Foster</td>\n",
       "      <td>Spayed Female</td>\n",
       "      <td>4.0</td>\n",
       "      <td>10.09</td>\n",
       "      <td>6.91</td>\n",
       "      <td>10.09</td>\n",
       "      <td>153</td>\n",
       "      <td>50</td>\n",
       "      <td>204</td>\n",
       "    </tr>\n",
       "  </tbody>\n",
       "</table>\n",
       "<p>10 rows × 21 columns</p>\n",
       "</div>"
      ],
      "text/plain": [
       "  Animal ID   Name                IntakeDT               OutcomeDT        DOB  \\\n",
       "0   A785936     NO 2018-12-13 10:57:59.962 2019-03-13 09:20:00.010 2018-12-12   \n",
       "1   A774111  GIVEN 2018-06-10 01:41:59.971 2019-03-13 09:11:59.971 2018-05-10   \n",
       "2   A774113  GIVEN 2018-06-10 01:41:59.971 2019-03-13 09:11:59.971 2018-05-10   \n",
       "3   A774114  GIVEN 2018-06-10 01:41:59.971 2019-03-13 09:09:59.962 2018-05-10   \n",
       "4   A774115  GIVEN 2018-06-10 01:41:59.971 2019-03-13 09:09:59.962 2018-05-10   \n",
       "5   A774110  GIVEN 2018-06-10 01:41:59.971 2019-03-13 09:09:00.000 2018-05-10   \n",
       "6   A790596     NO 2019-03-12 11:44:00.010 2019-03-13 09:04:59.981 2018-03-12   \n",
       "7   A790577     NO 2019-03-12 05:08:59.971 2019-03-13 09:00:00.000 2017-03-12   \n",
       "8   A790523    YES 2019-03-11 07:14:00.010 2019-03-12 12:06:59.990 2018-03-11   \n",
       "9   A787807  GIVEN 2019-01-20 12:38:00.010 2019-03-12 12:04:00.019 2018-08-20   \n",
       "\n",
       "     Intake Type Intake Condition Animal Type Sex upon Intake  \\\n",
       "0          Stray          Nursing         Cat   Intact Female   \n",
       "1          Stray           Normal         Cat   Intact Female   \n",
       "2          Stray           Normal         Cat   Intact Female   \n",
       "3          Stray           Normal         Cat     Intact Male   \n",
       "4          Stray           Normal         Cat   Intact Female   \n",
       "5          Stray           Normal         Cat   Intact Female   \n",
       "6  Public Assist           Normal       Other         Unknown   \n",
       "7       Wildlife           Normal       Other         Unknown   \n",
       "8          Stray           Normal         Dog     Intact Male   \n",
       "9          Stray           Normal         Dog   Intact Female   \n",
       "\n",
       "                           Breed  ...     Outcome Type  Outcome Subtype  \\\n",
       "0         Domestic Shorthair Mix  ...         Adoption           Foster   \n",
       "1         Domestic Shorthair Mix  ...         Adoption           Foster   \n",
       "2         Domestic Shorthair Mix  ...         Adoption           Foster   \n",
       "3         Domestic Shorthair Mix  ...         Adoption           Foster   \n",
       "4         Domestic Shorthair Mix  ...         Adoption           Foster   \n",
       "5       Domestic Medium Hair Mix  ...         Adoption           Foster   \n",
       "6                        Bat Mix  ...       Euthanasia      Rabies Risk   \n",
       "7                        Bat Mix  ...       Euthanasia      Rabies Risk   \n",
       "8                          Boxer  ...  Return to Owner  Return to Owner   \n",
       "9  Dachshund/Chihuahua Shorthair  ...         Adoption           Foster   \n",
       "\n",
       "  Sex upon Outcome Obedience*  Weight at Intake (lbs)*  Height (in)*  \\\n",
       "0    Spayed Female        NaN                     2.03          2.05   \n",
       "1    Spayed Female        NaN                     3.17          3.39   \n",
       "2    Spayed Female        NaN                     3.47          3.39   \n",
       "3    Neutered Male        NaN                     3.51          3.40   \n",
       "4    Spayed Female        NaN                     3.83          3.39   \n",
       "5    Spayed Female        NaN                     3.58          3.40   \n",
       "6          Unknown        NaN                      NaN           NaN   \n",
       "7          Unknown        NaN                      NaN           NaN   \n",
       "8      Intact Male        3.0                    71.01         22.97   \n",
       "9    Spayed Female        4.0                    10.09          6.91   \n",
       "\n",
       "   Weight at Outcome (lbs)*  AgeAtIntake  TimeAtShelter  AgeAtOutcome  \n",
       "0                      5.31            1             89            91  \n",
       "1                     11.17           31            276           307  \n",
       "2                     11.47           31            276           307  \n",
       "3                     11.51           31            276           307  \n",
       "4                     11.83           31            276           307  \n",
       "5                     11.58           31            276           307  \n",
       "6                       NaN          365              0           366  \n",
       "7                       NaN          730              1           731  \n",
       "8                     71.01          365              1           366  \n",
       "9                     10.09          153             50           204  \n",
       "\n",
       "[10 rows x 21 columns]"
      ]
     },
     "execution_count": 4,
     "metadata": {},
     "output_type": "execute_result"
    }
   ],
   "source": [
    "df.head(10)"
   ]
  },
  {
   "cell_type": "markdown",
   "id": "c22962b8",
   "metadata": {},
   "source": [
    "#### Finding the shape of the AnimalShelter dataframe"
   ]
  },
  {
   "cell_type": "code",
   "execution_count": 5,
   "id": "f27c1d4c",
   "metadata": {},
   "outputs": [
    {
     "data": {
      "text/plain": [
       "(95501, 21)"
      ]
     },
     "execution_count": 5,
     "metadata": {},
     "output_type": "execute_result"
    }
   ],
   "source": [
    "df.shape"
   ]
  },
  {
   "cell_type": "markdown",
   "id": "fd7b3712",
   "metadata": {},
   "source": [
    "The **.shape** method tells us that the dataset contains 21 columns and 95,501 rows."
   ]
  },
  {
   "cell_type": "markdown",
   "id": "cd1cd038",
   "metadata": {},
   "source": [
    "#### Finding the size of the pima dataframe"
   ]
  },
  {
   "cell_type": "code",
   "execution_count": 6,
   "id": "38fb8898",
   "metadata": {},
   "outputs": [
    {
     "name": "stdout",
     "output_type": "stream",
     "text": [
      "The total number of elements is:  2005521\n"
     ]
    }
   ],
   "source": [
    "print(\"The total number of elements is: \", df.size)"
   ]
  },
  {
   "cell_type": "markdown",
   "id": "843d8f7d",
   "metadata": {},
   "source": [
    "#### Analyzing the data types of all the variables in the dataset"
   ]
  },
  {
   "cell_type": "code",
   "execution_count": 7,
   "id": "b3b75d4c",
   "metadata": {
    "scrolled": true
   },
   "outputs": [
    {
     "name": "stdout",
     "output_type": "stream",
     "text": [
      "<class 'pandas.core.frame.DataFrame'>\n",
      "RangeIndex: 95501 entries, 0 to 95500\n",
      "Data columns (total 21 columns):\n",
      " #   Column                    Non-Null Count  Dtype         \n",
      "---  ------                    --------------  -----         \n",
      " 0   Animal ID                 95501 non-null  object        \n",
      " 1   Name                      95501 non-null  object        \n",
      " 2   IntakeDT                  95501 non-null  datetime64[ns]\n",
      " 3   OutcomeDT                 95501 non-null  datetime64[ns]\n",
      " 4   DOB                       95501 non-null  datetime64[ns]\n",
      " 5   Intake Type               95501 non-null  object        \n",
      " 6   Intake Condition          95501 non-null  object        \n",
      " 7   Animal Type               95501 non-null  object        \n",
      " 8   Sex upon Intake           95501 non-null  object        \n",
      " 9   Breed                     95501 non-null  object        \n",
      " 10  Color                     95501 non-null  object        \n",
      " 11  Outcome Type              95501 non-null  object        \n",
      " 12  Outcome Subtype           95501 non-null  object        \n",
      " 13  Sex upon Outcome          95501 non-null  object        \n",
      " 14  Obedience*                54841 non-null  float64       \n",
      " 15  Weight at Intake (lbs)*   89549 non-null  float64       \n",
      " 16  Height (in)*              89549 non-null  float64       \n",
      " 17  Weight at Outcome (lbs)*  89549 non-null  float64       \n",
      " 18  AgeAtIntake               95501 non-null  int64         \n",
      " 19  TimeAtShelter             95501 non-null  int64         \n",
      " 20  AgeAtOutcome              95501 non-null  int64         \n",
      "dtypes: datetime64[ns](3), float64(4), int64(3), object(11)\n",
      "memory usage: 15.3+ MB\n"
     ]
    }
   ],
   "source": [
    "df.info()"
   ]
  },
  {
   "cell_type": "markdown",
   "id": "267787c2",
   "metadata": {},
   "source": [
    "**Observations:**<br>\n",
    "- The data types include datetime, float, int, and object (string). <br>\n",
    "- Additionally, some columns have missing values, such as 'Obedience*', 'Weight at Intake (lbs)*', 'Height (in)*', and 'Weight at Outcome (lbs)*'."
   ]
  },
  {
   "cell_type": "markdown",
   "id": "203e671a",
   "metadata": {},
   "source": [
    "#### Checking for Missing Values:"
   ]
  },
  {
   "cell_type": "code",
   "execution_count": 8,
   "id": "f58e78da",
   "metadata": {},
   "outputs": [
    {
     "data": {
      "text/plain": [
       "True"
      ]
     },
     "execution_count": 8,
     "metadata": {},
     "output_type": "execute_result"
    }
   ],
   "source": [
    "df.isnull().values.any()"
   ]
  },
  {
   "cell_type": "markdown",
   "id": "2de9621d",
   "metadata": {},
   "source": [
    "#### Quantifying Missing Data Across Columns:"
   ]
  },
  {
   "cell_type": "code",
   "execution_count": 9,
   "id": "b56d3210",
   "metadata": {},
   "outputs": [
    {
     "data": {
      "text/plain": [
       "Obedience*                  0.425755\n",
       "Weight at Outcome (lbs)*    0.062324\n",
       "Height (in)*                0.062324\n",
       "Weight at Intake (lbs)*     0.062324\n",
       "Animal ID                   0.000000\n",
       "Outcome Type                0.000000\n",
       "TimeAtShelter               0.000000\n",
       "AgeAtIntake                 0.000000\n",
       "Sex upon Outcome            0.000000\n",
       "Outcome Subtype             0.000000\n",
       "Color                       0.000000\n",
       "Name                        0.000000\n",
       "Breed                       0.000000\n",
       "Sex upon Intake             0.000000\n",
       "Animal Type                 0.000000\n",
       "Intake Condition            0.000000\n",
       "Intake Type                 0.000000\n",
       "DOB                         0.000000\n",
       "OutcomeDT                   0.000000\n",
       "IntakeDT                    0.000000\n",
       "AgeAtOutcome                0.000000\n",
       "dtype: float64"
      ]
     },
     "execution_count": 9,
     "metadata": {},
     "output_type": "execute_result"
    }
   ],
   "source": [
    "missing_percentages = df.isna().sum().sort_values(ascending=False) / len(df)\n",
    "missing_percentages"
   ]
  },
  {
   "cell_type": "markdown",
   "id": "c26e276d",
   "metadata": {},
   "source": [
    "#### Columns with Non-Zero Missing Values:"
   ]
  },
  {
   "cell_type": "code",
   "execution_count": 10,
   "id": "0262dd14",
   "metadata": {},
   "outputs": [
    {
     "data": {
      "text/plain": [
       "Obedience*                  42.575470\n",
       "Weight at Outcome (lbs)*     6.232395\n",
       "Height (in)*                 6.232395\n",
       "Weight at Intake (lbs)*      6.232395\n",
       "dtype: float64"
      ]
     },
     "execution_count": 10,
     "metadata": {},
     "output_type": "execute_result"
    }
   ],
   "source": [
    "missing_percentages[missing_percentages != 0] * 100"
   ]
  },
  {
   "cell_type": "markdown",
   "id": "51cfa200",
   "metadata": {},
   "source": [
    "#### Checking Data Type of Missing Percentages:"
   ]
  },
  {
   "cell_type": "code",
   "execution_count": 11,
   "id": "58851434",
   "metadata": {},
   "outputs": [
    {
     "data": {
      "text/plain": [
       "pandas.core.series.Series"
      ]
     },
     "execution_count": 11,
     "metadata": {},
     "output_type": "execute_result"
    }
   ],
   "source": [
    "type(missing_percentages)"
   ]
  },
  {
   "cell_type": "code",
   "execution_count": 12,
   "id": "5e560257",
   "metadata": {},
   "outputs": [
    {
     "data": {
      "text/plain": [
       "<AxesSubplot:>"
      ]
     },
     "execution_count": 12,
     "metadata": {},
     "output_type": "execute_result"
    },
    {
     "data": {
      "image/png": "[encoded data removed]",
      "text/plain": [
       "<Figure size 640x480 with 1 Axes>"
      ]
     },
     "metadata": {},
     "output_type": "display_data"
    }
   ],
   "source": [
    "missing_percentages[missing_percentages != 0].plot(kind='barh')"
   ]
  },
  {
   "cell_type": "markdown",
   "id": "6ba5f39b",
   "metadata": {},
   "source": [
    "**Observations:**<br>\n",
    "- **Obedience**: Approximately 42.58% of the entries in the \"Obedience*\" column have missing values.\n",
    "- **Weight at Outcome (lbs)**: About 6.23% of the entries in the \"Weight at Outcome (lbs)*\" column have missing values.\n",
    "- **Height (in)**: Approximately 6.23% of the entries in the \"Height (in)*\" column have missing values.\n",
    "- **Weight at Intake (lbs)**: About 6.23% of the entries in the \"Weight at Intake (lbs)*\" column have missing values.\n",
    "<br>\n",
    "1. These percentages indicate the proportion of missing values in each respective column. Missing values in the \"Obedience*\" column are more prevalent compared to the other columns, where the missing values range around 6.23%.\n",
    "2. It may be reasonable to omit the \"Obedience*\" column from this analysis due to the high proportion of missing values (approximately 42.58%), which could potentially impact the reliability and interpretability of the results."
   ]
  },
  {
   "cell_type": "markdown",
   "id": "343b2bfe",
   "metadata": {},
   "source": [
    "#### Finding the summary statistics for all variables except 'Outcome' in the pima data"
   ]
  },
  {
   "cell_type": "code",
   "execution_count": 13,
   "id": "9a1500ed",
   "metadata": {},
   "outputs": [
    {
     "data": {
      "text/html": [
       "<div>\n",
       "<style scoped>\n",
       "    .dataframe tbody tr th:only-of-type {\n",
       "        vertical-align: middle;\n",
       "    }\n",
       "\n",
       "    .dataframe tbody tr th {\n",
       "        vertical-align: top;\n",
       "    }\n",
       "\n",
       "    .dataframe thead th {\n",
       "        text-align: right;\n",
       "    }\n",
       "</style>\n",
       "<table border=\"1\" class=\"dataframe\">\n",
       "  <thead>\n",
       "    <tr style=\"text-align: right;\">\n",
       "      <th></th>\n",
       "      <th>count</th>\n",
       "      <th>mean</th>\n",
       "      <th>min</th>\n",
       "      <th>25%</th>\n",
       "      <th>50%</th>\n",
       "      <th>75%</th>\n",
       "      <th>max</th>\n",
       "    </tr>\n",
       "  </thead>\n",
       "  <tbody>\n",
       "    <tr>\n",
       "      <th>IntakeDT</th>\n",
       "      <td>95501</td>\n",
       "      <td>2016-05-25 23:50:54.929307904</td>\n",
       "      <td>2013-10-01 01:12:00.000</td>\n",
       "      <td>2015-01-31 02:30:00.028999936</td>\n",
       "      <td>2016-05-17 02:19:59.980999936</td>\n",
       "      <td>2017-09-09 05:15:00.000000000</td>\n",
       "      <td>2019-03-12 11:44:00.010</td>\n",
       "    </tr>\n",
       "    <tr>\n",
       "      <th>OutcomeDT</th>\n",
       "      <td>95501</td>\n",
       "      <td>2016-06-11 17:55:29.554210048</td>\n",
       "      <td>2013-10-01 01:00:00.029</td>\n",
       "      <td>2015-02-13 03:11:59.971000064</td>\n",
       "      <td>2016-06-06 02:17:00.009999872</td>\n",
       "      <td>2017-09-29 04:23:59.971000064</td>\n",
       "      <td>2019-03-13 09:20:00.010</td>\n",
       "    </tr>\n",
       "    <tr>\n",
       "      <th>DOB</th>\n",
       "      <td>95501</td>\n",
       "      <td>2014-03-15 02:25:34.903299584</td>\n",
       "      <td>1991-12-11 00:00:00.000</td>\n",
       "      <td>2013-01-09 00:00:00.000000000</td>\n",
       "      <td>2014-10-16 00:00:00.000000000</td>\n",
       "      <td>2016-06-07 00:00:00.000000000</td>\n",
       "      <td>2019-03-07 00:00:00.000</td>\n",
       "    </tr>\n",
       "  </tbody>\n",
       "</table>\n",
       "</div>"
      ],
      "text/plain": [
       "           count                          mean                     min  \\\n",
       "IntakeDT   95501 2016-05-25 23:50:54.929307904 2013-10-01 01:12:00.000   \n",
       "OutcomeDT  95501 2016-06-11 17:55:29.554210048 2013-10-01 01:00:00.029   \n",
       "DOB        95501 2014-03-15 02:25:34.903299584 1991-12-11 00:00:00.000   \n",
       "\n",
       "                                    25%                           50%  \\\n",
       "IntakeDT  2015-01-31 02:30:00.028999936 2016-05-17 02:19:59.980999936   \n",
       "OutcomeDT 2015-02-13 03:11:59.971000064 2016-06-06 02:17:00.009999872   \n",
       "DOB       2013-01-09 00:00:00.000000000 2014-10-16 00:00:00.000000000   \n",
       "\n",
       "                                    75%                     max  \n",
       "IntakeDT  2017-09-09 05:15:00.000000000 2019-03-12 11:44:00.010  \n",
       "OutcomeDT 2017-09-29 04:23:59.971000064 2019-03-13 09:20:00.010  \n",
       "DOB       2016-06-07 00:00:00.000000000 2019-03-07 00:00:00.000  "
      ]
     },
     "execution_count": 13,
     "metadata": {},
     "output_type": "execute_result"
    }
   ],
   "source": [
    "df.iloc[:, 0:8].describe(datetime_is_numeric=True).T"
   ]
  },
  {
   "cell_type": "markdown",
   "id": "fa174dca",
   "metadata": {},
   "source": [
    "**Observations**:\n",
    "1. **IntakeDT**: The data covers a period from October 1, 2013, to March 12, 2019. The mean intake date and time are approximately May 25, 2016, around 11:50 PM. The minimum intake date is October 1, 2013, at 01:12 AM, and the maximum intake date is March 12, 2019, at 11:44 AM.\n",
    "2. **OutcomeDT**: The data covers a period from October 1, 2013, to March 13, 2019. The mean outcome date and time are approximately June 11, 2016, around 05:55 PM. The minimum outcome date is October 1, 2013, at 01:00 AM, and the maximum outcome date is March 13, 2019, at 09:20 AM.\n",
    "3. **DOB (Date of Birth)**: The data covers a period from December 11, 1991, to March 7, 2019. The mean date of birth is approximately March 15, 2014. The minimum birth date is December 11, 1991, and the maximum birth date is March 7, 2019.\n",
    "4. The summary statistics provide insights into the distribution of datetime variables, showing measures of central tendency (mean, median) as well as dispersion (minimum, maximum, quartiles).\n",
    "5. There seems to be a relatively consistent distribution of intake and outcome dates over the years, with some variation in the specific times.\n",
    "6. The data covers a span of many years, indicating a substantial historical record of animal intake and outcome events."
   ]
  },
  {
   "cell_type": "markdown",
   "id": "28ffd93b",
   "metadata": {},
   "source": [
    "# Exploratory Data Analysis and Visualization\n",
    "\n",
    "1. **Analyzed Features**:\n",
    "     - Animal Type\n",
    "     - Sex Upon Intake\n",
    "     - Age at Intake\n",
    "     - Intake Condition\n",
    "     - Intake Type\n",
    "<br><br>\n",
    "2. **Feature Engineering**:\n",
    "    - Exploring Duration of Stay and its Impact on Adoption and Euthanasia Outcomes\n",
    "<br><br>\n",
    "3. **Data Preprocessing**:\n",
    "    - Imputation of Numerical Features with Missing Values\n",
    "    - Encoding Categorical Data\n",
    "    - Feature Scaling"
   ]
  },
  {
   "cell_type": "markdown",
   "id": "3211ab99",
   "metadata": {},
   "source": [
    "#### Filtering Data: Selecting Adoption and Euthanasia Cases"
   ]
  },
  {
   "cell_type": "code",
   "execution_count": 14,
   "id": "92f62469",
   "metadata": {},
   "outputs": [],
   "source": [
    "# Create a copy of the dataset\n",
    "filtered_df = df.copy()"
   ]
  },
  {
   "cell_type": "code",
   "execution_count": 15,
   "id": "f9f76434",
   "metadata": {},
   "outputs": [],
   "source": [
    "# Filter rows where the outcome type is either \"Adoption\" or \"Euthanasia\"\n",
    "filtered_df = filtered_df[filtered_df['Outcome Type'].isin(['Adoption', 'Euthanasia'])]"
   ]
  },
  {
   "cell_type": "code",
   "execution_count": 16,
   "id": "b853e43f",
   "metadata": {},
   "outputs": [
    {
     "data": {
      "text/plain": [
       "Index(['Animal ID', 'Name', 'IntakeDT', 'OutcomeDT', 'DOB', 'Intake Type',\n",
       "       'Intake Condition', 'Animal Type', 'Sex upon Intake', 'Breed', 'Color',\n",
       "       'Outcome Type', 'Outcome Subtype', 'Sex upon Outcome', 'Obedience*',\n",
       "       'Weight at Intake (lbs)*', 'Height (in)*', 'Weight at Outcome (lbs)*',\n",
       "       'AgeAtIntake', 'TimeAtShelter', 'AgeAtOutcome'],\n",
       "      dtype='object')"
      ]
     },
     "execution_count": 16,
     "metadata": {},
     "output_type": "execute_result"
    }
   ],
   "source": [
    "filtered_df.columns"
   ]
  },
  {
   "cell_type": "markdown",
   "id": "053d2b2b",
   "metadata": {},
   "source": [
    "## Analyzed Features\n",
    "### Animal Type"
   ]
  },
  {
   "cell_type": "code",
   "execution_count": 17,
   "id": "98cda0ee",
   "metadata": {},
   "outputs": [
    {
     "data": {
      "text/plain": [
       "0          Cat\n",
       "1          Cat\n",
       "2          Cat\n",
       "3          Cat\n",
       "4          Cat\n",
       "         ...  \n",
       "95474    Other\n",
       "95491      Dog\n",
       "95494      Cat\n",
       "95495      Cat\n",
       "95498      Dog\n",
       "Name: Animal Type, Length: 48352, dtype: object"
      ]
     },
     "execution_count": 17,
     "metadata": {},
     "output_type": "execute_result"
    }
   ],
   "source": [
    "animal_type = filtered_df['Animal Type']\n",
    "animal_type"
   ]
  },
  {
   "cell_type": "code",
   "execution_count": 18,
   "id": "6b30e2d2",
   "metadata": {},
   "outputs": [
    {
     "data": {
      "text/plain": [
       "48352"
      ]
     },
     "execution_count": 18,
     "metadata": {},
     "output_type": "execute_result"
    }
   ],
   "source": [
    "len(animal_type)"
   ]
  },
  {
   "cell_type": "code",
   "execution_count": 19,
   "id": "ea394c6d",
   "metadata": {},
   "outputs": [
    {
     "name": "stdout",
     "output_type": "stream",
     "text": [
      "Outcome Type  Adoption  Euthanasia\n",
      "Animal Type                       \n",
      "Bird             173.0       100.0\n",
      "Cat            15647.0      1612.0\n",
      "Dog            25321.0      1560.0\n",
      "Livestock          3.0         NaN\n",
      "Other            304.0      3632.0\n"
     ]
    }
   ],
   "source": [
    "outcome_by_animal_type = filtered_df.groupby(['Animal Type', 'Outcome Type']).size().unstack()\n",
    "print(outcome_by_animal_type)"
   ]
  },
  {
   "cell_type": "code",
   "execution_count": 20,
   "id": "44ea6778",
   "metadata": {},
   "outputs": [
    {
     "data": {
      "text/html": [
       "<div>\n",
       "<style scoped>\n",
       "    .dataframe tbody tr th:only-of-type {\n",
       "        vertical-align: middle;\n",
       "    }\n",
       "\n",
       "    .dataframe tbody tr th {\n",
       "        vertical-align: top;\n",
       "    }\n",
       "\n",
       "    .dataframe thead th {\n",
       "        text-align: right;\n",
       "    }\n",
       "</style>\n",
       "<table border=\"1\" class=\"dataframe\">\n",
       "  <thead>\n",
       "    <tr style=\"text-align: right;\">\n",
       "      <th>Outcome Type</th>\n",
       "      <th>Adoption</th>\n",
       "      <th>Euthanasia</th>\n",
       "    </tr>\n",
       "    <tr>\n",
       "      <th>Animal Type</th>\n",
       "      <th></th>\n",
       "      <th></th>\n",
       "    </tr>\n",
       "  </thead>\n",
       "  <tbody>\n",
       "    <tr>\n",
       "      <th>Bird</th>\n",
       "      <td>173.0</td>\n",
       "      <td>100.0</td>\n",
       "    </tr>\n",
       "    <tr>\n",
       "      <th>Cat</th>\n",
       "      <td>15647.0</td>\n",
       "      <td>1612.0</td>\n",
       "    </tr>\n",
       "    <tr>\n",
       "      <th>Dog</th>\n",
       "      <td>25321.0</td>\n",
       "      <td>1560.0</td>\n",
       "    </tr>\n",
       "    <tr>\n",
       "      <th>Livestock</th>\n",
       "      <td>3.0</td>\n",
       "      <td>NaN</td>\n",
       "    </tr>\n",
       "    <tr>\n",
       "      <th>Other</th>\n",
       "      <td>304.0</td>\n",
       "      <td>3632.0</td>\n",
       "    </tr>\n",
       "  </tbody>\n",
       "</table>\n",
       "</div>"
      ],
      "text/plain": [
       "Outcome Type  Adoption  Euthanasia\n",
       "Animal Type                       \n",
       "Bird             173.0       100.0\n",
       "Cat            15647.0      1612.0\n",
       "Dog            25321.0      1560.0\n",
       "Livestock          3.0         NaN\n",
       "Other            304.0      3632.0"
      ]
     },
     "execution_count": 20,
     "metadata": {},
     "output_type": "execute_result"
    }
   ],
   "source": [
    "outcome_by_animal_type[:]"
   ]
  },
  {
   "cell_type": "code",
   "execution_count": 21,
   "id": "d8fbdbb9",
   "metadata": {},
   "outputs": [
    {
     "data": {
      "image/png": "[encoded data removed]",
      "text/plain": [
       "<Figure size 1000x600 with 1 Axes>"
      ]
     },
     "metadata": {},
     "output_type": "display_data"
    }
   ],
   "source": [
    "outcome_by_animal_type[:].plot(kind='barh', figsize=(10, 6))\n",
    "plt.title('Distribution of Adoption and Euthanasia Outcomes by Animal Type')\n",
    "plt.xlabel('Count')\n",
    "plt.ylabel('Animal Type')\n",
    "plt.show()"
   ]
  },
  {
   "cell_type": "markdown",
   "id": "4aca8693",
   "metadata": {},
   "source": [
    "**Observations**:\n",
    "1. Cats and dogs have the highest number of adoptions, followed by birds and other animals.\n",
    "2. Cats and dogs also have a relatively high number of euthanasia cases compared to other animal types.\n",
    "3. Livestock has a small number of adoptions and no reported euthanasia cases (NaN indicates missing data)."
   ]
  },
  {
   "cell_type": "markdown",
   "id": "1acf9a45",
   "metadata": {},
   "source": [
    "## Sex Upon Intake"
   ]
  },
  {
   "cell_type": "code",
   "execution_count": 22,
   "id": "6fa4db18",
   "metadata": {},
   "outputs": [
    {
     "data": {
      "text/plain": [
       "0        Intact Female\n",
       "1        Intact Female\n",
       "2        Intact Female\n",
       "3          Intact Male\n",
       "4        Intact Female\n",
       "             ...      \n",
       "95474          Unknown\n",
       "95491      Intact Male\n",
       "95494      Intact Male\n",
       "95495          Unknown\n",
       "95498    Intact Female\n",
       "Name: Sex upon Intake, Length: 48352, dtype: object"
      ]
     },
     "execution_count": 22,
     "metadata": {},
     "output_type": "execute_result"
    }
   ],
   "source": [
    "sex_of_animal = filtered_df['Sex upon Intake']\n",
    "sex_of_animal"
   ]
  },
  {
   "cell_type": "code",
   "execution_count": 23,
   "id": "ef011215",
   "metadata": {},
   "outputs": [
    {
     "data": {
      "image/png": "[encoded data removed]",
      "text/plain": [
       "<Figure size 1000x600 with 1 Axes>"
      ]
     },
     "metadata": {},
     "output_type": "display_data"
    }
   ],
   "source": [
    "sex_of_animal = filtered_df['Sex upon Intake']\n",
    "\n",
    "# Create a cross-tabulation of Sex upon Intake and Outcome Type\n",
    "sex_outcome_cross_tab = pd.crosstab(sex_of_animal, filtered_df['Outcome Type'])\n",
    "\n",
    "# Plot the stacked bar plot\n",
    "sex_outcome_cross_tab.plot(kind='bar', stacked=True, figsize=(10, 6))\n",
    "plt.title('Distribution of Outcomes by Sex upon Intake')\n",
    "plt.xlabel('Sex upon Intake')\n",
    "plt.ylabel('Count')\n",
    "plt.legend(title='Outcome Type')\n",
    "plt.show()"
   ]
  },
  {
   "cell_type": "markdown",
   "id": "8768e98c",
   "metadata": {},
   "source": [
    "**Observations**:\n",
    "1. **Sex upon Intake Distribution**: The plot provides insight into the distribution of animals based on their sex upon intake. It appears that the most common categories are **\"Intact Female,\"** **\"Intact Male,\"** and **\"Neutered Male,\"** followed by **\"Spayed Female.\"**\n",
    "2. **Adoption vs. Euthanasia**: For most categories of sex upon intake, the count of adoptions is substantially higher than the count of euthanasia. This is particularly noticeable for **\"Intact Female,\"** **\"Intact Male,\"** and **\"Neutered Male\"** categories.\n",
    "3. **Significant Disparities**: There are noticeable differences in the distribution of outcomes based on sex upon intake. For example, the count of adoptions is notably higher than euthanasia for **\"Intact Female,\"** while for **\"Intact Male\"** and **\"Neutered Male,\"** adoptions far outnumber euthanasia.\n",
    "4. **Spayed Female**: Interestingly, the count of adoptions is significantly higher than euthanasia for **\"Spayed Female\"** animals, which indicates a favorable outcome for this category.\n",
    "5. **Euthanasia**: While the overall count of euthanasia is lower compared to adoptions for most categories, there are still instances of euthanasia across all categories, including **\"Intact Female\"** and **\"Spayed Female.\"**\n",
    "6. **Unknown Categories**: It seems there are categories labeled as **\"Unknown\"** in the dataset, as evident from the plot. These categories contribute to both adoptions and euthanasia counts, suggesting that further investigation may be needed to understand the context of these cases.\n",
    "7. **Insufficient Data**: It's important to note that some categories have very few data points, such as **\"Unknown\"** and **\"Neutered Female,\"** which could skew the perception of the distribution. These categories might require further analysis or might not be as representative.\n",
    "8. **Gender Influence**: The plot suggests that gender plays a role in influencing outcomes, as there are variations in adoption and euthanasia counts across different sex upon intake categories."
   ]
  },
  {
   "cell_type": "markdown",
   "id": "83d52bc6",
   "metadata": {},
   "source": [
    "## Age at Intake"
   ]
  },
  {
   "cell_type": "code",
   "execution_count": 24,
   "id": "69edb552",
   "metadata": {},
   "outputs": [
    {
     "data": {
      "text/plain": [
       "0           1\n",
       "1          31\n",
       "2          31\n",
       "3          31\n",
       "4          31\n",
       "         ... \n",
       "95474     183\n",
       "95491    2922\n",
       "95494     731\n",
       "95495     122\n",
       "95498    1097\n",
       "Name: AgeAtIntake, Length: 48352, dtype: int64"
      ]
     },
     "execution_count": 24,
     "metadata": {},
     "output_type": "execute_result"
    }
   ],
   "source": [
    "filtered_df.AgeAtIntake"
   ]
  },
  {
   "cell_type": "code",
   "execution_count": 25,
   "id": "3e676bd0",
   "metadata": {},
   "outputs": [
    {
     "data": {
      "image/png": "[encoded data removed]",
      "text/plain": [
       "<Figure size 1000x600 with 1 Axes>"
      ]
     },
     "metadata": {},
     "output_type": "display_data"
    }
   ],
   "source": [
    "plt.figure(figsize=(10, 6))\n",
    "sns.violinplot(x='Outcome Type', y='AgeAtIntake', data=filtered_df)\n",
    "plt.title(\"Distribution of Age by Outcome Type\")\n",
    "plt.xlabel(\"Outcome Type\")\n",
    "plt.ylabel(\"Age at Intake\")\n",
    "plt.show()"
   ]
  },
  {
   "cell_type": "markdown",
   "id": "407db750",
   "metadata": {},
   "source": [
    "**Observations**:\n",
    "1. **Age Distribution**: The plot illustrates the distribution of ages for both **\"Adoption\"** and **\"Euthanasia\"** outcomes. The width of the violin at different age levels indicates the density of animals with that age.\n",
    "2. **Median Age**: The white dot within each violin represents the median age for the respective outcome. In this plot, it seems that the median age for adoptions might be slightly lower than that for euthanasia.\n",
    "3. **Density Estimation**: The shaded areas around the central line (kernel density estimation) show the estimated probability density of the age distribution. Thicker areas indicate a higher density of animals at those ages.\n",
    "4. **Age Range**: The length of the violins provides insight into the range of ages for each outcome. Longer violins suggest a wider range of ages, while shorter violins indicate a more concentrated age range.\n",
    "5. **Outliers**: The presence of any significant outliers in the age distribution can be identified from points outside the violins. These outliers might indicate unusual cases where animals of extreme ages experienced either adoption or euthanasia.\n",
    "6. **Comparison**: By comparing the violins side by side, you can quickly assess whether there are noticeable differences in the age distribution between adoptions and euthanasia. For instance, if one violin is consistently wider than the other, it indicates a broader age range for that outcome."
   ]
  },
  {
   "cell_type": "markdown",
   "id": "1e084bff",
   "metadata": {},
   "source": [
    "## Intake Condition"
   ]
  },
  {
   "cell_type": "code",
   "execution_count": 26,
   "id": "3f7cd145",
   "metadata": {},
   "outputs": [
    {
     "data": {
      "text/plain": [
       "0        Nursing\n",
       "1         Normal\n",
       "2         Normal\n",
       "3         Normal\n",
       "4         Normal\n",
       "          ...   \n",
       "95474    Injured\n",
       "95491    Injured\n",
       "95494     Normal\n",
       "95495     Normal\n",
       "95498    Injured\n",
       "Name: Intake Condition, Length: 48352, dtype: object"
      ]
     },
     "execution_count": 26,
     "metadata": {},
     "output_type": "execute_result"
    }
   ],
   "source": [
    "animal_condition = filtered_df['Intake Condition']\n",
    "animal_condition"
   ]
  },
  {
   "cell_type": "code",
   "execution_count": 27,
   "id": "0b46c51e",
   "metadata": {},
   "outputs": [
    {
     "data": {
      "text/plain": [
       "<Figure size 1000x600 with 0 Axes>"
      ]
     },
     "metadata": {},
     "output_type": "display_data"
    },
    {
     "data": {
      "image/png": "[encoded data removed]",
      "text/plain": [
       "<Figure size 640x480 with 1 Axes>"
      ]
     },
     "metadata": {},
     "output_type": "display_data"
    }
   ],
   "source": [
    "# Create a DataFrame to store the count of outcomes for each condition\n",
    "outcome_counts = filtered_df.groupby(['Intake Condition', 'Outcome Type']).size().unstack()\n",
    "\n",
    "# Plotting the grouped bar plot\n",
    "plt.figure(figsize=(10, 6))\n",
    "sns.set(style=\"whitegrid\")\n",
    "outcome_counts.plot(kind='bar', stacked=True)\n",
    "plt.title(\"Distribution of Outcomes by Animal Condition\")\n",
    "plt.xlabel(\"Animal Condition\")\n",
    "plt.ylabel(\"Count\")\n",
    "plt.legend(title=\"Outcome Type\")\n",
    "plt.xticks(rotation=45)\n",
    "plt.show()"
   ]
  },
  {
   "cell_type": "markdown",
   "id": "e88ee084",
   "metadata": {},
   "source": [
    "**Observations**:\n",
    "1. **Animal Condition Distribution**: The majority of animals in the dataset have an intake condition categorized as \"Normal.\" This category significantly dominates the distribution compared to other conditions.\n",
    "2. **Outcome Distribution for Normal Animals**: Within the \"Normal\" animal condition category:\n",
    "    - **Adoption**: Among animals with a \"Normal\" condition, the most common outcome is \"Adoption.\" This suggests that animals with a normal condition have a higher likelihood of being adopted.\n",
    "    - **Transfer**: The second most common outcome for animals with a \"Normal\" condition is \"Transfer.\"\n",
    "    - **Return to Owner**: The third most common outcome for animals with a \"Normal\" condition is \"Return to Owner.\"\n",
    "3. **Other Conditions**: The distribution of outcomes varies for animals with conditions other than \"Normal.\" While these conditions are less frequent, there are some notable trends:\n",
    "    - **Injured**: Animals categorized as \"Injured\" have a relatively higher likelihood of being euthanized compared to being adopted or transferred.\n",
    "    - **Sick**: Animals categorized as \"Sick\" also have a higher likelihood of being euthanized.\n",
    "    - **Nursing**: Animals categorized as \"Nursing\" have a higher likelihood of being transferred.\n",
    "4. **Euthanasia and Other Outcomes**: Animals with conditions other than \"Normal\" seem to have a higher likelihood of unfavorable outcomes such as \"Euthanasia\" or other categories like \"Died\" or \"Rabies Risk.\"\n",
    "<br><br>\n",
    "In summary, the plot highlights a strong correlation between the animal's condition and the distribution of outcomes. Animals with a \"Normal\" condition have a higher chance of being adopted, while animals with conditions like \"Injured\" or \"Sick\" are more likely to face euthanasia. The plot underscores the importance of maintaining and improving the overall health and well-being of animals in the shelter to increase their chances of positive outcomes."
   ]
  },
  {
   "cell_type": "markdown",
   "id": "fe693e81",
   "metadata": {},
   "source": [
    "## Intake Type"
   ]
  },
  {
   "cell_type": "code",
   "execution_count": 28,
   "id": "25eea403",
   "metadata": {},
   "outputs": [
    {
     "data": {
      "text/plain": [
       "0           Stray\n",
       "1           Stray\n",
       "2           Stray\n",
       "3           Stray\n",
       "4           Stray\n",
       "           ...   \n",
       "95474    Wildlife\n",
       "95491       Stray\n",
       "95494       Stray\n",
       "95495       Stray\n",
       "95498       Stray\n",
       "Name: Intake Type, Length: 48352, dtype: object"
      ]
     },
     "execution_count": 28,
     "metadata": {},
     "output_type": "execute_result"
    }
   ],
   "source": [
    "animal_intake_type = filtered_df['Intake Type']\n",
    "animal_intake_type"
   ]
  },
  {
   "cell_type": "code",
   "execution_count": 29,
   "id": "f5ade8d4",
   "metadata": {},
   "outputs": [
    {
     "data": {
      "text/plain": [
       "<Figure size 1000x600 with 0 Axes>"
      ]
     },
     "metadata": {},
     "output_type": "display_data"
    },
    {
     "data": {
      "image/png": "[encoded data removed]",
      "text/plain": [
       "<Figure size 640x480 with 1 Axes>"
      ]
     },
     "metadata": {},
     "output_type": "display_data"
    }
   ],
   "source": [
    "# Create a DataFrame to store the count of outcomes for each intake type\n",
    "outcome_counts = filtered_df.groupby(['Intake Type', 'Outcome Type']).size().unstack()\n",
    "\n",
    "# Plotting the grouped bar plot\n",
    "plt.figure(figsize=(10, 6))\n",
    "sns.set(style=\"whitegrid\")\n",
    "outcome_counts.plot(kind='bar', stacked=True)\n",
    "plt.title(\"Distribution of Outcomes by Intake Type\")\n",
    "plt.xlabel(\"Intake Type\")\n",
    "plt.ylabel(\"Count\")\n",
    "plt.legend(title=\"Outcome Type\")\n",
    "plt.xticks(rotation=45)\n",
    "plt.show()"
   ]
  },
  {
   "cell_type": "markdown",
   "id": "93eb4d44",
   "metadata": {},
   "source": [
    "**Observations**:\n",
    "1. **Intake Type Distribution**: The plot highlights that \"Stray\" and \"Owner Surrender\" are the two most abundant intake types. \"Stray\" is the most dominant, followed by \"Owner Surrender,\" although its distribution is not as strong.\n",
    "2. **Outcomes for Stray Intake Type**: Within the \"Stray\" intake type category:\n",
    "    - **Adoption**: The largest outcome for \"Stray\" animals is \"Adoption,\" indicating that a significant number of animals that arrive as strays get adopted.\n",
    "    - **Transfer**: The second most common outcome for \"Stray\" animals is \"Transfer.\"\n",
    "    - **Return to Owner**: Animals classified as \"Stray\" also have a notable frequency of being returned to their owners.\n",
    "    - **Euthanasia**: While present, the \"Euthanasia\" outcome for \"Stray\" animals is comparatively smaller.\n",
    "3. **Outcomes for Owner Surrender Intake Type**: Within the \"Owner Surrender\" intake type category:\n",
    "    - **Adoption and Transfer**: The most prevalent outcomes for \"Owner Surrender\" animals are \"Adoption\" and \"Transfer.\"\n",
    "    - **Euthanasia**: The frequency of \"Euthanasia\" as an outcome for \"Owner Surrender\" animals is significantly lower compared to \"Adoption\" and \"Transfer.\"\n",
    "4. **Other Intake Types**: The plot also shows the distribution of outcomes for other intake types, such as \"Public Assist,\" \"Abandoned,\" and \"Euthanasia Request,\" among others. These intake types have varying outcome distributions, with \"Adoption\" and \"Transfer\" being the most common.\n",
    "5. **Overall Observations**: The plot underscores the fact that animals that arrive as \"Stray\" have a diverse range of outcomes, with a substantial number being adopted. On the other hand, animals surrendered by their owners have a higher likelihood of being adopted or transferred, and the frequency of euthanasia is relatively lower.\n",
    "6. **Adoption and Transfer Dominance**: Across all intake types, \"Adoption\" and \"Transfer\" outcomes are consistently the most dominant, indicating the shelter's efforts to find new homes for animals or relocate them to other organizations.\n",
    "<br><br>\n",
    "In summary, the plot provides valuable insights into the distribution of outcomes based on different intake types, emphasizing the significance of effective strategies for both \"Stray\" and \"Owner Surrender\" animals to improve their chances of positive outcomes, particularly through adoption and transfer."
   ]
  },
  {
   "cell_type": "markdown",
   "id": "39ea1579",
   "metadata": {},
   "source": [
    "## Feature Engineering\n",
    "### Exploring Duration of Stay and its Impact on Adoption and Euthanasia Outcomes\n",
    "<br>\n",
    "The purpose of adding the new \"Duration of Stay\" feature is to capture the length of time each animal stayed in the shelter before experiencing an outcome (adoption or euthanasia). This new feature can provide valuable insights into the relationship between the duration of stay and the likelihood of different outcomes."
   ]
  },
  {
   "cell_type": "code",
   "execution_count": 30,
   "id": "ce30385e",
   "metadata": {},
   "outputs": [
    {
     "name": "stdout",
     "output_type": "stream",
     "text": [
      "  Animal ID   Name                IntakeDT               OutcomeDT        DOB  \\\n",
      "0   A785936     NO 2018-12-13 10:57:59.962 2019-03-13 09:20:00.010 2018-12-12   \n",
      "1   A774111  GIVEN 2018-06-10 01:41:59.971 2019-03-13 09:11:59.971 2018-05-10   \n",
      "2   A774113  GIVEN 2018-06-10 01:41:59.971 2019-03-13 09:11:59.971 2018-05-10   \n",
      "3   A774114  GIVEN 2018-06-10 01:41:59.971 2019-03-13 09:09:59.962 2018-05-10   \n",
      "4   A774115  GIVEN 2018-06-10 01:41:59.971 2019-03-13 09:09:59.962 2018-05-10   \n",
      "\n",
      "  Intake Type Intake Condition Animal Type Sex upon Intake  \\\n",
      "0       Stray          Nursing         Cat   Intact Female   \n",
      "1       Stray           Normal         Cat   Intact Female   \n",
      "2       Stray           Normal         Cat   Intact Female   \n",
      "3       Stray           Normal         Cat     Intact Male   \n",
      "4       Stray           Normal         Cat   Intact Female   \n",
      "\n",
      "                    Breed  ... Outcome Subtype Sex upon Outcome Obedience*  \\\n",
      "0  Domestic Shorthair Mix  ...          Foster    Spayed Female        NaN   \n",
      "1  Domestic Shorthair Mix  ...          Foster    Spayed Female        NaN   \n",
      "2  Domestic Shorthair Mix  ...          Foster    Spayed Female        NaN   \n",
      "3  Domestic Shorthair Mix  ...          Foster    Neutered Male        NaN   \n",
      "4  Domestic Shorthair Mix  ...          Foster    Spayed Female        NaN   \n",
      "\n",
      "  Weight at Intake (lbs)*  Height (in)*  Weight at Outcome (lbs)*  \\\n",
      "0                    2.03          2.05                      5.31   \n",
      "1                    3.17          3.39                     11.17   \n",
      "2                    3.47          3.39                     11.47   \n",
      "3                    3.51          3.40                     11.51   \n",
      "4                    3.83          3.39                     11.83   \n",
      "\n",
      "   AgeAtIntake  TimeAtShelter  AgeAtOutcome  Duration of Stay  \n",
      "0            1             89            91                89  \n",
      "1           31            276           307               276  \n",
      "2           31            276           307               276  \n",
      "3           31            276           307               276  \n",
      "4           31            276           307               276  \n",
      "\n",
      "[5 rows x 22 columns]\n"
     ]
    }
   ],
   "source": [
    "# Calculating the duration of stay for each animal\n",
    "filtered_df['Duration of Stay'] = (filtered_df['OutcomeDT'] - filtered_df['IntakeDT']).dt.days\n",
    "\n",
    "# Display the updated DataFrame with the new feature\n",
    "print(filtered_df.head())"
   ]
  },
  {
   "cell_type": "markdown",
   "id": "17502f0f",
   "metadata": {},
   "source": [
    "This code calculates the difference between the 'OutcomeDT' (Outcome Date/Time) and 'IntakeDT' (Intake Date/Time) columns, converts the result to days, and adds it as a new column named 'Duration of Stay' to the DataFrame. This new feature represents the length of time each animal stayed in the shelter before an outcome occurred."
   ]
  },
  {
   "cell_type": "code",
   "execution_count": 31,
   "id": "0552eae2",
   "metadata": {},
   "outputs": [
    {
     "data": {
      "image/png": "[encoded data removed]",
      "text/plain": [
       "<Figure size 1000x600 with 1 Axes>"
      ]
     },
     "metadata": {},
     "output_type": "display_data"
    }
   ],
   "source": [
    "# Plot the distribution of duration of stay for animals that were adopted and euthanized\n",
    "plt.figure(figsize=(10, 6))\n",
    "sns.histplot(data=filtered_df, x='Duration of Stay', hue='Outcome Type', element='step', bins=50)\n",
    "plt.title(\"Distribution of Duration of Stay for Adoption and Euthanasia\")\n",
    "plt.xlabel(\"Duration of Stay\")\n",
    "plt.ylabel(\"Count\")\n",
    "plt.legend(title=\"Outcome Type\", labels=[\"Adoption\", \"Euthanasia\"])  # Explicitly set legend labels\n",
    "plt.show()"
   ]
  },
  {
   "cell_type": "markdown",
   "id": "7d78deb7",
   "metadata": {},
   "source": [
    "From the plot depicting the distribution of the duration of stay for animals that were adopted and euthanized, we can make the following observations:\n",
    "\n",
    "- **Adoption Peak at Shorter Durations**: The distribution of animals adopted shows a peak at shorter durations of stay. This suggests that a significant number of animals are adopted relatively quickly after intake.\n",
    "\n",
    "- **Euthanasia Spread**: The distribution of animals that were euthanized appears to be more spread out across different durations of stay. There is no clear peak, indicating that euthanized animals' lengths of stay vary more widely.\n",
    "\n",
    "- **Longer Stays for Euthanasia**: While adoptions tend to occur within a shorter timeframe, there is a noticeable proportion of animals that were euthanized after longer stays. This could imply that certain animals that are not adopted within a certain time frame might have a higher likelihood of being euthanized.\n",
    "\n",
    "- **Business Decision Implications**: The observations above could have implications for business decisions. For instance, the shelter might focus on promoting and facilitating quicker adoptions for animals to reduce their length of stay and improve their chances of adoption. Additionally, the shelter could analyze factors contributing to longer stays for euthanized animals to identify potential interventions that could increase their chances of adoption or improve their well-being.\n",
    "\n",
    "- **Potential Interventions**: Insights from this analysis might prompt the shelter to implement targeted interventions, such as adjusting adoption promotion strategies, providing additional resources to animals with longer stays, or prioritizing certain categories of animals for adoption."
   ]
  },
  {
   "cell_type": "markdown",
   "id": "04958b2e",
   "metadata": {},
   "source": [
    "## Data Preprocessing\n",
    "### Imputation of Numerical Features with Missing Values"
   ]
  },
  {
   "cell_type": "code",
   "execution_count": 32,
   "id": "741feaac",
   "metadata": {
    "scrolled": true
   },
   "outputs": [],
   "source": [
    "# Imputing missing values in numerical columns with median\n",
    "numerical_columns = ['Obedience*', 'Weight at Intake (lbs)*', 'Height (in)*', 'Weight at Outcome (lbs)*']\n",
    "for col in numerical_columns:\n",
    "    median_value = filtered_df[col].median()\n",
    "    filtered_df[col].fillna(median_value, inplace=True)"
   ]
  },
  {
   "cell_type": "markdown",
   "id": "98805adc",
   "metadata": {},
   "source": [
    "### Encoding Categorical Data"
   ]
  },
  {
   "cell_type": "code",
   "execution_count": 33,
   "id": "4eff879d",
   "metadata": {},
   "outputs": [],
   "source": [
    "# Performing one-hot encoding on categorical columns\n",
    "categorical_columns = ['Intake Type', 'Intake Condition', 'Animal Type', 'Sex upon Intake', 'Outcome Type']\n",
    "encoded_df = pd.get_dummies(filtered_df, columns=categorical_columns, drop_first=True)"
   ]
  },
  {
   "cell_type": "code",
   "execution_count": 34,
   "id": "5410de2f",
   "metadata": {},
   "outputs": [
    {
     "name": "stdout",
     "output_type": "stream",
     "text": [
      "   Obedience*  Weight at Intake (lbs)*  Height (in)*  \\\n",
      "0         3.0                     2.03          2.05   \n",
      "1         3.0                     3.17          3.39   \n",
      "2         3.0                     3.47          3.39   \n",
      "3         3.0                     3.51          3.40   \n",
      "4         3.0                     3.83          3.39   \n",
      "\n",
      "   Weight at Outcome (lbs)*  AgeAtIntake  TimeAtShelter  AgeAtOutcome  \\\n",
      "0                      5.31            1             89            91   \n",
      "1                     11.17           31            276           307   \n",
      "2                     11.47           31            276           307   \n",
      "3                     11.51           31            276           307   \n",
      "4                     11.83           31            276           307   \n",
      "\n",
      "   Intake Type_Owner Surrender  Intake Type_Public Assist  Intake Type_Stray  \\\n",
      "0                            0                          0                  1   \n",
      "1                            0                          0                  1   \n",
      "2                            0                          0                  1   \n",
      "3                            0                          0                  1   \n",
      "4                            0                          0                  1   \n",
      "\n",
      "   ...  Intake Condition_Sick  Animal Type_Cat  Animal Type_Dog  \\\n",
      "0  ...                      0                1                0   \n",
      "1  ...                      0                1                0   \n",
      "2  ...                      0                1                0   \n",
      "3  ...                      0                1                0   \n",
      "4  ...                      0                1                0   \n",
      "\n",
      "   Animal Type_Livestock  Animal Type_Other  Sex upon Intake_Intact Male  \\\n",
      "0                      0                  0                            0   \n",
      "1                      0                  0                            0   \n",
      "2                      0                  0                            0   \n",
      "3                      0                  0                            1   \n",
      "4                      0                  0                            0   \n",
      "\n",
      "   Sex upon Intake_Neutered Male  Sex upon Intake_Spayed Female  \\\n",
      "0                              0                              0   \n",
      "1                              0                              0   \n",
      "2                              0                              0   \n",
      "3                              0                              0   \n",
      "4                              0                              0   \n",
      "\n",
      "   Sex upon Intake_Unknown  Outcome Type_Euthanasia  \n",
      "0                        0                        0  \n",
      "1                        0                        0  \n",
      "2                        0                        0  \n",
      "3                        0                        0  \n",
      "4                        0                        0  \n",
      "\n",
      "[5 rows x 27 columns]\n"
     ]
    }
   ],
   "source": [
    "# Droping the 'Name' column from the DataFrame\n",
    "encoded_df = encoded_df.drop(columns=['Name', 'Breed', 'Outcome Subtype', 'Sex upon Outcome', 'Color', 'IntakeDT', 'OutcomeDT', 'DOB', 'Duration of Stay'])\n",
    "\n",
    "# Droping the 'Animal ID' column from the DataFrame\n",
    "encoded_df = encoded_df.drop(columns=['Animal ID'])\n",
    "\n",
    "# Displaying the first few rows of the DataFrame\n",
    "print(encoded_df.head())"
   ]
  },
  {
   "cell_type": "markdown",
   "id": "0f7dc42a",
   "metadata": {},
   "source": [
    "**Checking for infinite values:**"
   ]
  },
  {
   "cell_type": "code",
   "execution_count": 35,
   "id": "12354463",
   "metadata": {},
   "outputs": [],
   "source": [
    "columns_to_check = ['Obedience*', 'Weight at Intake (lbs)*', 'Height (in)*', 'Weight at Outcome (lbs)*', 'AgeAtIntake', 'TimeAtShelter', 'AgeAtOutcome']\n",
    "\n",
    "for col in columns_to_check:\n",
    "    if np.any(np.isinf(encoded_df[col])):\n",
    "        print(f\"Infinite values found in column: {col}\")"
   ]
  },
  {
   "cell_type": "markdown",
   "id": "3daca980",
   "metadata": {},
   "source": [
    "**Checking for extremely high values:**"
   ]
  },
  {
   "cell_type": "code",
   "execution_count": 36,
   "id": "3b3382aa",
   "metadata": {},
   "outputs": [
    {
     "name": "stdout",
     "output_type": "stream",
     "text": [
      "Obedience*                    5.00\n",
      "Weight at Intake (lbs)*     237.86\n",
      "Height (in)*                 32.13\n",
      "Weight at Outcome (lbs)*    237.86\n",
      "dtype: float64\n"
     ]
    }
   ],
   "source": [
    "max_values = encoded_df[numerical_columns].max()\n",
    "print(max_values)"
   ]
  },
  {
   "cell_type": "markdown",
   "id": "c000bbcf",
   "metadata": {},
   "source": [
    "### Feature Scaling"
   ]
  },
  {
   "cell_type": "code",
   "execution_count": 37,
   "id": "1e7f7fb2",
   "metadata": {},
   "outputs": [],
   "source": [
    "from sklearn.preprocessing import StandardScaler\n",
    "\n",
    "# Extract the numerical columns for scaling\n",
    "numerical_columns = ['Obedience*', 'Weight at Intake (lbs)*', 'Height (in)*', 'Weight at Outcome (lbs)*', 'AgeAtIntake', 'TimeAtShelter', 'AgeAtOutcome']\n",
    "\n",
    "# Initialize the scaler\n",
    "scaler = StandardScaler()\n",
    "\n",
    "# Scale the numerical features\n",
    "encoded_df[numerical_columns] = scaler.fit_transform(encoded_df[numerical_columns])\n"
   ]
  },
  {
   "cell_type": "markdown",
   "id": "ad39a720",
   "metadata": {},
   "source": [
    "# Model Building\n",
    "\n",
    "## Building the Predictive Model"
   ]
  },
  {
   "cell_type": "code",
   "execution_count": 38,
   "id": "483b920f",
   "metadata": {},
   "outputs": [],
   "source": [
    "# Splitting the data into features (X) and target (y)\n",
    "X = encoded_df.drop(columns=['Outcome Type_Euthanasia'], axis=1)\n",
    "y = encoded_df['Outcome Type_Euthanasia']  # Use the correct target column for adoptions"
   ]
  },
  {
   "cell_type": "code",
   "execution_count": 39,
   "id": "68e0e4be",
   "metadata": {},
   "outputs": [
    {
     "data": {
      "text/plain": [
       "RandomForestClassifier(random_state=42)"
      ]
     },
     "execution_count": 39,
     "metadata": {},
     "output_type": "execute_result"
    }
   ],
   "source": [
    "# Import necessary libraries\n",
    "from sklearn.model_selection import train_test_split\n",
    "from sklearn.ensemble import RandomForestClassifier\n",
    "from sklearn.metrics import accuracy_score, f1_score\n",
    "\n",
    "# Split the data into training and testing sets\n",
    "X_train, X_test, y_train, y_test = train_test_split(X, y, test_size=0.2, random_state=42)\n",
    "\n",
    "# Initialize the Random Forest Classifier\n",
    "clf = RandomForestClassifier(random_state=42)\n",
    "\n",
    "# Train the model on the training data\n",
    "clf.fit(X_train, y_train)"
   ]
  },
  {
   "cell_type": "code",
   "execution_count": 40,
   "id": "ba0cb94a",
   "metadata": {},
   "outputs": [
    {
     "name": "stdout",
     "output_type": "stream",
     "text": [
      "Accuracy: 0.97\n",
      "F1 Score: 0.90\n",
      "Predictions: [1 0 0 0 0]\n"
     ]
    }
   ],
   "source": [
    "# Predict on the testing data\n",
    "y_pred = clf.predict(X_test)\n",
    "\n",
    "# Calculate the accuracy of the model\n",
    "accuracy = accuracy_score(y_test, y_pred)\n",
    "f1 = f1_score(y_test, y_pred)\n",
    "print(f\"Accuracy: {accuracy:.2f}\")\n",
    "print(f\"F1 Score: {f1:.2f}\")\n",
    "\n",
    "# You can now use the trained model 'clf' to make predictions on new data\n",
    "# For example:\n",
    "new_data = X_test.iloc[:5]  # Select the first 5 rows from the testing data\n",
    "predictions = clf.predict(new_data)\n",
    "print(\"Predictions:\", predictions)"
   ]
  },
  {
   "cell_type": "code",
   "execution_count": 41,
   "id": "9b5f4e40",
   "metadata": {},
   "outputs": [
    {
     "name": "stdout",
     "output_type": "stream",
     "text": [
      "Obedience*\n",
      "Weight at Intake (lbs)*\n",
      "Height (in)*\n",
      "Weight at Outcome (lbs)*\n",
      "AgeAtIntake\n",
      "TimeAtShelter\n",
      "AgeAtOutcome\n",
      "Intake Type_Owner Surrender\n",
      "Intake Type_Public Assist\n",
      "Intake Type_Stray\n",
      "Intake Type_Wildlife\n",
      "Intake Condition_Feral\n",
      "Intake Condition_Injured\n",
      "Intake Condition_Normal\n",
      "Intake Condition_Nursing\n",
      "Intake Condition_Other\n",
      "Intake Condition_Pregnant\n",
      "Intake Condition_Sick\n",
      "Animal Type_Cat\n",
      "Animal Type_Dog\n",
      "Animal Type_Livestock\n",
      "Animal Type_Other\n",
      "Sex upon Intake_Intact Male\n",
      "Sex upon Intake_Neutered Male\n",
      "Sex upon Intake_Spayed Female\n",
      "Sex upon Intake_Unknown\n",
      "Outcome Type_Euthanasia\n"
     ]
    }
   ],
   "source": [
    "for column in encoded_df.columns:\n",
    "    print(column)"
   ]
  },
  {
   "cell_type": "code",
   "execution_count": 42,
   "id": "0e19dd9e",
   "metadata": {},
   "outputs": [
    {
     "data": {
      "image/png": "[encoded data removed]",
      "text/plain": [
       "<Figure size 1000x600 with 1 Axes>"
      ]
     },
     "metadata": {},
     "output_type": "display_data"
    }
   ],
   "source": [
    "import matplotlib.pyplot as plt\n",
    "\n",
    "# Train a Random Forest model and assume it's stored in 'rf_model'\n",
    "\n",
    "# Extract feature importance\n",
    "feature_importance = clf.feature_importances_\n",
    "\n",
    "# Get the list of feature names\n",
    "feature_names = encoded_df.columns\n",
    "\n",
    "# Create a DataFrame to store feature importance and names\n",
    "feature_importance_df = pd.DataFrame({'Feature': encoded_df.drop(['Outcome Type_Euthanasia'], axis=1).columns, 'Importance': feature_importance})\n",
    "\n",
    "# Sort the DataFrame by importance\n",
    "feature_importance_df = feature_importance_df.sort_values(by='Importance', ascending=False)\n",
    "\n",
    "# Plot the top N important features\n",
    "top_n = 15  # Change this to the number of top features you want to visualize\n",
    "plt.figure(figsize=(10, 6))\n",
    "plt.barh(feature_importance_df['Feature'][:top_n], feature_importance_df['Importance'][:top_n])\n",
    "plt.xlabel('Feature Importance')\n",
    "plt.ylabel('Feature')\n",
    "plt.title('Top Feature Importance')\n",
    "plt.show()\n"
   ]
  },
  {
   "cell_type": "markdown",
   "id": "875723bb",
   "metadata": {},
   "source": [
    "**Observations**:\n",
    "\n",
    "- **Duration of Stay and Outcome**: There is a correlation between the duration of stay and the likelihood of euthanasia. Animals that stay longer are more likely to be euthanized.\n",
    "- **Obedience Feature Removal**: The feature \"Obedience\" (related to aggressive behavior) was removed from the analysis, indicating that it may not significantly impact the outcome prediction.\n",
    "- **Correlation Analysis**: A correlation analysis between \"Obedience\" and \"Sex\" was suggested for further investigation using Tableau.\n",
    "- **Intake Conditions**: The conditions of animals at intake (e.g., feral, injured, sick) may not be significant for this analysis.\n",
    "\n",
    "**Model Building Code and Feature Importance Plotting**:\n",
    "The predictive model was built using a Random Forest Classifier. The feature importance scores were also plotted. The model achieved an accuracy of 97% and an F1 score of 0.90, indicating a good predictive performance."
   ]
  },
  {
   "cell_type": "markdown",
   "id": "9d43625f",
   "metadata": {},
   "source": [
    "# Conclusion: Unveiling Insights from Animal Shelter Data\n",
    "\n",
    "## Introduction:\n",
    "In our quest to enhance the efficiency and effectiveness of our animal shelter operations, we embarked on a comprehensive data analysis journey that encompassed exploratory data analysis, predictive modeling, and prescriptive insights. Our goal was to unravel the underlying patterns, trends, and influential factors that determine whether animals are adopted or euthanized, with the ultimate aim of informing strategic decisions and driving positive changes in our shelter management.\n",
    "\n",
    "## Exploratory Data Analysis: Illuminating Patterns:\n",
    "Our analysis kicked off with an in-depth exploration of the dataset. By delving into the demographic and health characteristics of animals upon intake, we discovered intriguing insights. Notably, the duration of stay emerged as a key factor influencing outcomes. Longer stays were correlated with a higher likelihood of euthanasia, highlighting the importance of streamlined processes to expedite adoptions and minimize stress on our furry friends.\n",
    "\n",
    "## Predictive Modeling: Unleashing the Power of Machine Learning:\n",
    "Leveraging the predictive power of machine learning, we constructed a robust Random Forest classifier. This model demonstrated an impressive accuracy of 97%, reinforcing the potential of data-driven decision-making in our shelter operations. We identified crucial features that contribute to outcomes, such as age at intake, animal type, and gender. Strikingly, the 'obedience' attribute, despite its removal due to insignificance, hinted at intriguing correlations with other variables, warranting further exploration.\n",
    "\n",
    "## Prescriptive Insights: Guiding Strategic Actions:\n",
    "With a firm grasp of patterns and predictive power, we transitioned into the realm of prescriptive insights. Linear optimization allowed us to optimize resource allocation, finding the delicate balance between caring for animals and operational efficiency. By strategically managing resources based on outcomes, we can create a more sustainable and compassionate environment for our shelter residents.\n",
    "\n",
    "## Actionable Implications: Transforming Shelter Management:\n",
    "Our analysis unveiled actionable insights that can drive transformative changes within our shelter management:\n",
    "\n",
    "1. **Streamlined Adoption Processes**: Efforts to expedite the adoption process and minimize animal stress during their stay can significantly reduce euthanasia rates.\n",
    "\n",
    "2. **Tailored Care for Different Species**: The analysis of animal types and their distinct needs can lead to personalized care strategies, improving overall well-being and increasing adoption rates.\n",
    "\n",
    "3. **Exploring 'Obedience' Further**: The intriguing correlations involving 'obedience' suggest potential interactions with other variables, warranting deeper investigations that could enhance our understanding of animal behavior and well-being.\n",
    "\n",
    "4. **Optimized Resource Allocation**: By optimizing resource allocation through linear optimization techniques, we can ensure that every resource is utilized efficiently to achieve the best possible outcomes for our shelter residents.\n",
    "\n",
    "## Conclusion: Paving the Path Ahead:\n",
    "Our data-driven journey through descriptive, predictive, and prescriptive analysis has illuminated a roadmap for optimizing our animal shelter operations. By leveraging the insights gained from our analysis, we are empowered to make informed decisions that enhance animal well-being, maximize adoption rates, and minimize euthanasia. As we step into this new era of data-driven shelter management, we are poised to create a more compassionate, efficient, and impactful environment for our beloved animal companions.\n",
    "\n",
    "_________________\n",
    "\n",
    "\n",
    "## Exporting the Data for Tableau"
   ]
  },
  {
   "cell_type": "code",
   "execution_count": 43,
   "id": "4fca16aa",
   "metadata": {},
   "outputs": [],
   "source": [
    "import pandas as pd"
   ]
  },
  {
   "cell_type": "markdown",
   "id": "4d80620b",
   "metadata": {},
   "source": [
    "Export to Excel:"
   ]
  },
  {
   "cell_type": "code",
   "execution_count": null,
   "id": "c9f095e7",
   "metadata": {},
   "outputs": [],
   "source": [
    "# Replace 'dataframe_name' with the name of your DataFrame\n",
    "encoded_df.to_excel('output_file.xlsx', index=False)"
   ]
  },
  {
   "cell_type": "markdown",
   "id": "5aef0f63",
   "metadata": {},
   "source": [
    "_________\n",
    "\n",
    "## PyGWalker Visualization"
   ]
  },
  {
   "cell_type": "code",
   "execution_count": 1,
   "id": "2a9a3e14",
   "metadata": {},
   "outputs": [],
   "source": [
    "# !pip install pygwalker\n",
    "\n",
    "# import pandas as pd\n",
    "# import pygwalker as pyg"
   ]
  }
 ],
 "metadata": {
  "kernelspec": {
   "display_name": "Python 3 (ipykernel)",
   "language": "python",
   "name": "python3"
  },
  "language_info": {
   "codemirror_mode": {
    "name": "ipython",
    "version": 3
   },
   "file_extension": ".py",
   "mimetype": "text/x-python",
   "name": "python",
   "nbconvert_exporter": "python",
   "pygments_lexer": "ipython3",
   "version": "3.9.13"
  }
 },
 "nbformat": 4,
 "nbformat_minor": 5
}
